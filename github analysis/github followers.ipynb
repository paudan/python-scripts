{
 "cells": [
  {
   "cell_type": "code",
   "execution_count": null,
   "metadata": {
    "collapsed": true
   },
   "outputs": [],
   "source": [
    "# Examples from Mining the Social Web, section 7"
   ]
  },
  {
   "cell_type": "code",
   "execution_count": 6,
   "metadata": {
    "collapsed": false
   },
   "outputs": [
    {
     "name": "stdout",
     "output_type": "stream",
     "text": [
      "API response: {\"message\":\"Validation Failed\",\"errors\":[{\"resource\":\"OauthAccess\",\"code\":\"already_exists\",\"field\":\"description\"}],\"documentation_url\":\"https://developer.github.com/v3/oauth_authorizations/#create-a-new-authorization\"}\n",
      "already_exists\n"
     ]
    }
   ],
   "source": [
    "import json\n",
    "import sys\n",
    "import os\n",
    "from operator import itemgetter\n",
    "from collections import Counter\n",
    "import webbrowser\n",
    "from ConfigParser import ConfigParser\n",
    "\n",
    "import requests\n",
    "from github import Github\n",
    "import networkx as nx  # pip install networkx\n",
    "from networkx.readwrite import json_graph\n",
    "\n",
    "config = ConfigParser()\n",
    "config.read('config.ini')\n",
    "username = config.get('github', 'username')\n",
    "password = config.get('github', 'password')\n",
    "token = config.get('github', 'token')\n",
    "\n",
    "def create_access_token():\n",
    "    # Note that credentials will be transmitted over a secure SSL connection\n",
    "    url = 'https://api.github.com/authorizations'\n",
    "    note = 'Mining the Social Web, 2nd Ed.'\n",
    "    post_data = {'scopes': ['repo'], 'note': note}\n",
    "\n",
    "    response = requests.post(url, auth=(username, password), data=json.dumps(post_data), )\n",
    "\n",
    "    print \"API response:\", response.text\n",
    "    if response.json().has_key('errors'):\n",
    "        print response.json()['errors'][0]['code']\n",
    "    else:\n",
    "        print \"Your OAuth token is\", response.json()['token']\n",
    "\n",
    "create_access_token()"
   ]
  },
  {
   "cell_type": "markdown",
   "metadata": {},
   "source": [
    "Create Github object and get response for stargazers:"
   ]
  },
  {
   "cell_type": "code",
   "execution_count": 11,
   "metadata": {
    "collapsed": false
   },
   "outputs": [
    {
     "data": {
      "text/plain": [
       "'{\\n \"following_url\": \"https://api.github.com/users/georgebellos/following{/other_user}\", \\n \"events_url\": \"https://api.github.com/users/georgebellos/events{/privacy}\", \\n \"organizations_url\": \"https://api.github.com/users/georgebellos/orgs\", \\n \"url\": \"https://api.github.com/users/georgebellos\", \\n \"gists_url\": \"https://api.github.com/users/georgebellos/gists{/gist_id}\", \\n \"html_url\": \"https://github.com/georgebellos\", \\n \"subscriptions_url\": \"https://api.github.com/users/georgebellos/subscriptions\", \\n \"avatar_url\": \"https://avatars.githubusercontent.com/u/13009?v=3\", \\n \"repos_url\": \"https://api.github.com/users/georgebellos/repos\", \\n \"received_events_url\": \"https://api.github.com/users/georgebellos/received_events\", \\n \"gravatar_id\": \"\", \\n \"starred_url\": \"https://api.github.com/users/georgebellos/starred{/owner}{/repo}\", \\n \"site_admin\": false, \\n \"login\": \"georgebellos\", \\n \"type\": \"User\", \\n \"id\": 13009, \\n \"followers_url\": \"https://api.github.com/users/georgebellos/followers\"\\n}'"
      ]
     },
     "execution_count": 11,
     "metadata": {},
     "output_type": "execute_result"
    }
   ],
   "source": [
    "USER = 'ptwobrussell'\n",
    "REPO = 'Mining-the-Social-Web'\n",
    "\n",
    "client = Github(token, per_page=100)\n",
    "user = client.get_user(USER)\n",
    "repo = user.get_repo(REPO)\n",
    "\n",
    "url = \"https://api.github.com/repos/ptwobrussell/Mining-the-Social-Web/stargazers\"\n",
    "response = requests.get(url)\n",
    "json.dumps(response.json()[0], indent=1)"
   ]
  },
  {
   "cell_type": "markdown",
   "metadata": {},
   "source": [
    "Print response headers:"
   ]
  },
  {
   "cell_type": "code",
   "execution_count": 10,
   "metadata": {
    "collapsed": false
   },
   "outputs": [
    {
     "name": "stdout",
     "output_type": "stream",
     "text": [
      "Server => GitHub.com\n",
      "Date => Sat, 05 Nov 2016 18:54:37 GMT\n",
      "Content-Type => application/json; charset=utf-8\n",
      "Transfer-Encoding => chunked\n",
      "Status => 200 OK\n",
      "X-RateLimit-Limit => 60\n",
      "X-RateLimit-Remaining => 58\n",
      "X-RateLimit-Reset => 1478375436\n",
      "Cache-Control => public, max-age=60, s-maxage=60\n",
      "Vary => Accept, Accept-Encoding\n",
      "ETag => W/\"ccecbb8f902b5668c3d206bef821fc7c\"\n",
      "X-GitHub-Media-Type => github.v3\n",
      "Link => <https://api.github.com/repositories/1040700/stargazers?page=2>; rel=\"next\", <https://api.github.com/repositories/1040700/stargazers?page=37>; rel=\"last\"\n",
      "Access-Control-Expose-Headers => ETag, Link, X-GitHub-OTP, X-RateLimit-Limit, X-RateLimit-Remaining, X-RateLimit-Reset, X-OAuth-Scopes, X-Accepted-OAuth-Scopes, X-Poll-Interval\n",
      "Access-Control-Allow-Origin => *\n",
      "Content-Security-Policy => default-src 'none'\n",
      "Strict-Transport-Security => max-age=31536000; includeSubdomains; preload\n",
      "X-Content-Type-Options => nosniff\n",
      "X-Frame-Options => deny\n",
      "X-XSS-Protection => 1; mode=block\n",
      "X-Served-By => bae57931a6fe678a3dffe9be8e7819c8\n",
      "Content-Encoding => gzip\n",
      "X-GitHub-Request-Id => B210236C:14C8:1BF29B3:581E2AED\n"
     ]
    }
   ],
   "source": [
    "for (k, v) in response.headers.items():\n",
    "    print k, \"=>\", v"
   ]
  },
  {
   "cell_type": "markdown",
   "metadata": {},
   "source": [
    "Get number of stargazers:"
   ]
  },
  {
   "cell_type": "code",
   "execution_count": 12,
   "metadata": {
    "collapsed": false
   },
   "outputs": [
    {
     "name": "stdout",
     "output_type": "stream",
     "text": [
      "Number of stargazers 1084\n"
     ]
    }
   ],
   "source": [
    "stargazers = [s for s in repo.get_stargazers()]\n",
    "print \"Number of stargazers\", len(stargazers)"
   ]
  },
  {
   "cell_type": "markdown",
   "metadata": {},
   "source": [
    "Create stargazers graph:"
   ]
  },
  {
   "cell_type": "code",
   "execution_count": 13,
   "metadata": {
    "collapsed": false
   },
   "outputs": [
    {
     "name": "stdout",
     "output_type": "stream",
     "text": [
      "Name: \n",
      "Type: DiGraph\n",
      "Number of nodes: 1085\n",
      "Number of edges: 1084\n",
      "Average in degree:   0.9991\n",
      "Average out degree:   0.9991\n"
     ]
    }
   ],
   "source": [
    "g = nx.DiGraph()\n",
    "g.add_node(repo.name + '(repo)', type='repo', lang=repo.language, owner=user.login)\n",
    "for sg in stargazers:\n",
    "    g.add_node(sg.login + '(user)', type='user')\n",
    "    g.add_edge(sg.login + '(user)', repo.name + '(repo)', type='gazes')\n",
    "\n",
    "print nx.info(g)"
   ]
  },
  {
   "cell_type": "markdown",
   "metadata": {},
   "source": [
    "Query this graph:"
   ]
  },
  {
   "cell_type": "code",
   "execution_count": 16,
   "metadata": {
    "collapsed": false
   },
   "outputs": [
    {
     "name": "stdout",
     "output_type": "stream",
     "text": [
      "{'lang': u'JavaScript', 'owner': u'ptwobrussell', 'type': 'repo'}\n",
      "{'type': 'user'}\n",
      "\n",
      "{'type': 'gazes'}\n",
      "{u'Mining-the-Social-Web(repo)': {'type': 'gazes'}}\n",
      "{}\n",
      "\n",
      "[]\n",
      "[('ptwobrussell(user)', u'Mining-the-Social-Web(repo)')]\n"
     ]
    }
   ],
   "source": [
    "print g.node['Mining-the-Social-Web(repo)']\n",
    "print g.node['ptwobrussell(user)']\n",
    "print\n",
    "print g['ptwobrussell(user)']['Mining-the-Social-Web(repo)']\n",
    "# The next line would throw a KeyError since no such edge exists:\n",
    "# print g['Mining-the-Social-Web(repo)']['ptwobrussell(user)']\n",
    "print g['ptwobrussell(user)']\n",
    "print g['Mining-the-Social-Web(repo)']\n",
    "print\n",
    "print g.in_edges(['ptwobrussell(user)'])\n",
    "print g.out_edges(['ptwobrussell(user)'])"
   ]
  },
  {
   "cell_type": "markdown",
   "metadata": {},
   "source": [
    "Print followers (extract them from incoming edges):"
   ]
  },
  {
   "cell_type": "code",
   "execution_count": 19,
   "metadata": {
    "collapsed": false
   },
   "outputs": [
    {
     "name": "stdout",
     "output_type": "stream",
     "text": [
      "[u'yobo000(user)', u'gregmoreno(user)', u'SathishRaju(user)', u'beinvest(user)', u'gawry(user)', u'decadef20(user)', u'darkfall(user)', u'daimajia(user)', u'henri-nourel(user)', u'chihuanqi(user)', u'program247365(user)', u'xiaodiu2010(user)', u'yoghi(user)', u'dylanthomas(user)', u'EugeneLiang(user)', u'longislandicetea(user)', u'jagguli(user)', u'ConceptKreator(user)', u'rgtjf(user)', u'daseme(user)', u'keokilee(user)', u'azuranop(user)', u'enriquesanchezb(user)', u'chhzhangs(user)', u'jfca(user)', u'terry2012(user)', u'yy(user)', u'batasrki(user)', u'yhj8341(user)', u'zerojarvis(user)', u'royburns(user)', u'coodoing(user)', u'bootstrapt(user)', u'ZoomQuiet(user)', u'trietptm(user)', u'bryantchan(user)', u'metllord(user)', u'flashus(user)', u'TomiToivio(user)', u'hammer(user)', u'paulbersch(user)', u'tranminhan(user)', u'amckenna(user)', u'zihaolucky(user)', u'khaing211(user)', u'thulio(user)', u'virajkulkarni14(user)', u'khurchla(user)', u'timmyshen(user)', u'jujubepalm(user)', u'acadopia(user)', u'lesbleus2007(user)', u'madsurgeon(user)', u'lemonad(user)', u'liuyeliufeng(user)', u'yiseul(user)', u'heptal(user)', u'yanhuaaoaoao(user)', u'tertsch(user)', u'shuhei(user)', u'NandoKstroNet(user)', u'mattharrison(user)', u'eduardocereto(user)', u'holys(user)', u'matiskay(user)', u'shanlalit(user)', u'andrewdanks(user)', u'liulinyang(user)', u'rossant(user)', u'tayashigenori(user)', u'Btibert3(user)', u'fakber(user)', u'Alexoner(user)', u'nine9s(user)', u'frac(user)', u'FranklinChen(user)', u'manesiotise(user)', u'riivo(user)', u'edfine(user)', u'NapalmHorn(user)', u'bububa(user)', u'paulgoggin(user)', u'douglas(user)', u'frankk00(user)', u'LebronKodan(user)', u'yujinw(user)', u'wbzyl(user)', u'joliva(user)', u'rduong(user)', u'seijiro(user)', u'openp2pdesign(user)', u'iwanbk(user)', u'bgriffen(user)', u'hupili(user)', u'ansion103(user)', u'eyadsibai(user)', u'ardalahmet(user)', u'fanggai(user)', u'stephen-cernota(user)', u'lsinger(user)', u'menorki(user)', u'dineshj1(user)', u'jonathansick(user)', u'shurik(user)', u'hiorws(user)', u'allengaller(user)', u'napo(user)', u'ironico(user)', u'cnunciato(user)', u'jessegahlla(user)', u'IWhisper(user)', u'stefaneyr(user)', u'boringmachine(user)', u'pengyutang125(user)', u'coronin(user)', u'alamsal(user)', u'akondylis(user)', u'dworznik(user)', u'ricardoalmeida(user)', u'BENGMN(user)', u'yicaoyimu(user)', u'eojeel(user)', u'elg0nz(user)', u'kobalis(user)', u'todrobbins(user)', u'MaggiePlusPlus(user)', u'ya790206(user)', u'h2rd(user)', u'eughenes(user)', u'zeutrap(user)', u'omoto(user)', u'MichaelMartinez(user)', u'ibugs961(user)', u'bcambel(user)', u'kwaibun(user)', u'zaynaib(user)', u'Bluesartisan(user)', u'neriberto(user)', u'booyildirim(user)', u'DiegoSan1895(user)', u'jatinmistry13(user)', u'macdiva(user)', u'miku(user)', u'yogeshc(user)', u'timelyportfolio(user)', u'pensz(user)', u'ChrisMcKee(user)', u'enulex(user)', u'jannson(user)', u'amejiarosario(user)', u'msonsona(user)', u'zhuwenger(user)', u'chengdujin(user)', u'BrianPin(user)', u'gr33ndata(user)', u'kuntoaji(user)', u'furukama(user)', u'vigo(user)', u'jonathan-bower(user)', u'Erict19(user)', u'hanksudo(user)', u'CaptSolo(user)', u'tianhaocto(user)', u'rohithadassanayake(user)', u'olovholm(user)', u'Jgustavii(user)', u'arianpasquali(user)', u'abecciu(user)', u'jdzeil(user)', u'hoffmann(user)', u'masdude(user)', u'oliverc(user)', u'tomasaftalion(user)', u'alfredcai(user)', u'robstrange(user)', u'ykhroki(user)', u'fcojperez(user)', u'futurespective(user)', u'sleyzerzon(user)', u'willddy(user)', u'joshz(user)', u'iaind(user)', u'predmach(user)', u'seralf(user)', u'seanschang(user)', u'chunhuawu(user)', u'nada(user)', u'carlditzler(user)', u'qianyanseu(user)', u'Brhett(user)', u'kelvincobanaj(user)', u'stepmr(user)', u'adawsonfullsail(user)', u'miyaso(user)', u'bugrax(user)', u'michalbcz(user)', u'majahn(user)', u'surecc(user)', u'allen3921(user)', u'NikhilKodilkar(user)', u'parama(user)', u'Sdmattpotter(user)', u'iccupzerg(user)', u'kiogo(user)', u'miukal(user)', u'MorphZhou(user)', u'mike-grayhat(user)', u'andypiper(user)', u'UniIsland(user)', u'futan(user)', u'mengD(user)', u'mchoimis(user)', u'kshimo69(user)', u'liang456(user)', u'bearzx(user)', u'sfrench(user)', u'downrightmike(user)', u'johnthebrave(user)', u'rukku(user)', u'yul11a(user)', u'zakobyte(user)', u'erainey(user)', u'skyserpent(user)', u'cjf4(user)', u'tigerjh(user)', u'rasper121(user)', u'zolizoli(user)', u'1rick(user)', u'nikolay(user)', u'acdha(user)', u'chilijung(user)', u'jodyabney(user)', u'ngpestelos(user)', u'callard(user)', u'ymirpl(user)', u'ukituki(user)', u'tayf(user)', u'KevinOfNeu(user)', u'pietrolo(user)', u'ysfseu(user)', u'dhiemazt(user)', u'kadnan(user)', u'ethanhu(user)', u'milmazz(user)', u'willi(user)', u'digvan(user)', u'JacekAmbroziak(user)', u'singit(user)', u'dasfaha(user)', u'deusnet(user)', u'brunojm(user)', u'themiurgo(user)', u'sirithink(user)', u'maxtheman(user)', u'subrays(user)', u'jerryyeezus(user)', u'wmswu(user)', u'charlesgavin(user)', u'whuwy(user)', u'kennethreitz(user)', u'tonez(user)', u'studiomaestro(user)', u'vanderwal(user)', u'8HNHoFtE(user)', u'extremecasey(user)', u'liuyihan(user)', u'jakobzhao(user)', u'lvwangbeta(user)', u'raoulwissink(user)', u'edglazer(user)', u'sffafa(user)', u'rdempsey(user)', u'gcornejo(user)', u'redswallow(user)', u'BrentAuble(user)', u'janetyc(user)', u'wanpiqiao(user)', u'blackerby(user)', u'thaifdotme(user)', u'daemianmack(user)', u'bpeirce(user)', u'ikari-pl(user)', u'Tuxified(user)', u'0x27(user)', u'andreypaa(user)', u'gregrahn(user)', u'mountcrow(user)', u'Prufrock1(user)', u'zhangwenkang(user)', u'mrmvergeer(user)', u'sofianhw(user)', u'folkengine(user)', u'ramkrsna(user)', u'likaiguo(user)', u'cyrusin(user)', u'bryantology(user)', u'joeywen(user)', u'slojo404(user)', u'negrond(user)', u'myditto(user)', u'shaobin0604(user)', u'yuxwmail(user)', u'anirudhjoshi(user)', u'Doppp(user)', u'jbreger(user)', u'bcattle(user)', u'sumnous(user)', u'johnymontana(user)', u'manboubird(user)', u'jumping(user)', u'girish(user)', u'caseysoftware(user)', u'rohithjyothish(user)', u'edtechdev(user)', u'jwsy(user)', u'jhaus(user)', u'jtmhom88(user)', u'Thawab(user)', u'jah2488(user)', u'tswicegood(user)', u'sfahad46(user)', u'adivik2000(user)', u'masamik(user)', u'quakerpunk(user)', u'MorLong(user)', u'momotas210(user)', u'guillermogrande(user)', u'PendletonJones(user)', u'prod-man(user)', u'hejibo(user)', u'cwz8202(user)', u'disappearedgod(user)', u'jpendry(user)', u'michaelwills(user)', u'ehmo(user)', u'cobblest(user)', u'nacht(user)', u'espeed(user)', u'jgarza(user)', u'rytis(user)', u'dotpot(user)', u'roppen(user)', u'torazuka(user)', u'sabanana(user)', u'paxan(user)', u'cb372(user)', u'ZwyAnswer(user)', u'ocowchun(user)', u'dayu321(user)', u'IAbuElRuzz(user)', u'Almad(user)', u'ndarville(user)', u'magnum(user)', u'jean(user)', u'gkhnlts(user)', u'chunkplus(user)', u'barbietunnie(user)', u'ywdong(user)', u'hanula(user)', u'kkovacs(user)', u'phauly(user)', u'BillBai(user)', u'ternsip(user)', u'paulhoule(user)', u'savourylie(user)', u'jlcarvalho(user)', u'rickixie(user)', u'guoylyy(user)', u'elidupuis(user)', u'cameronpriest(user)', u'treper(user)', u'ahmads(user)', u'flyabroad(user)', u'csuper(user)', u'nimblemachine(user)', u'ykakihara(user)', u'cmcgovern(user)', u'Huiyang520(user)', u'jmshoffs0812(user)', u'dgryski(user)', u'samuel(user)', u'collardb(user)', u'joohnnie(user)', u'mapio(user)', u'gavinmh(user)', u'lg2046(user)', u'mmccaff(user)', u'shancci(user)', u'isnowfy(user)', u'bzak(user)', u'bjzu(user)', u'miyucy(user)', u'FGRibreau(user)', u'zonovo(user)', u'awb99(user)', u'mgrouchy(user)', u'matagus(user)', u'georgebellos(user)', u'myhomepc(user)', u'tokestermw(user)', u'lincolinnyan(user)', u'hackrole(user)', u'mkdotam(user)', u'lucassbgomes(user)', u'mrblack555(user)', u'tttxxx(user)', u'redy(user)', u'shenli(user)', u'temberature(user)', u'funwalla(user)', u'apetrunev(user)', u'xlogik(user)', u'PowChow(user)', u'nordhuang(user)', u'pkrishnaprasad(user)', u'CityFire(user)', u'springga(user)', u'csuzhangxc(user)', u'gcavallanti(user)', u'InFog(user)', u'natorro(user)', u'ningandma(user)', u'wuhao4u(user)', u'morpheme(user)', u'rabbit-run(user)', u'chishaku(user)', u'daevid(user)', u'lyl7225(user)', u'macorama(user)', u'844792418(user)', u'nbyloff(user)', u'javouhey(user)', u'mhaidarh(user)', u'pparo(user)', u'opexxx(user)', u'jengdal(user)', u'chlalanne(user)', u'jcprandini(user)', u'joepestro(user)', u'theresia(user)', u'twidi(user)', u'peicheng(user)', u'gabstehr(user)', u'astergu(user)', u'eujinkim(user)', u'scollection(user)', u'eddygreen(user)', u'aburan28(user)', u'slimsymphony(user)', u'oweidner(user)', u'polonia(user)', u'benjikraft(user)', u'anentropic(user)', u'freemandealer(user)', u'xxllp(user)', u'omg(user)', u'JonWeinberg(user)', u'ticean(user)', u'rgaidot(user)', u'mtchang(user)', u'dcloud(user)', u'danieljjh(user)', u'shuxue051(user)', u'lifeforaiur(user)', u'lilylabo(user)', u'wendyran(user)', u'toori67(user)', u'waleking(user)', u'pdailey(user)', u'SocialQ(user)', u'aminert(user)', u'pedrokoblitz(user)', u'waterfox0323(user)', u'brianjolly(user)', u'jlmvale(user)', u'hz2003(user)', u'phildionne(user)', u'jineshpaloor(user)', u'bobdia(user)', u'PittyXu(user)', u'zyiac(user)', u'ackratos(user)', u'vfulco(user)', u'jackxu(user)', u'webmaven(user)', u'gracaninja(user)', u'capricasix(user)', u'softpurkelly(user)', u'NikGero(user)', u'rickschmoo(user)', u'douglas-larocca(user)', u'shotaatago(user)', u'csjones(user)', u'hisuley(user)', u'sakares(user)', u'ndunnage(user)', u'davni(user)', u'pqnga(user)', u'mistahBen(user)', u'kibernick(user)', u'fozbaca(user)', u'nycterent(user)', u'doeslater(user)', u'Derick13(user)', u'nisc(user)', u'LeandroAlmeida(user)', u'cenphoenix(user)', u'akton(user)', u'mpac(user)', u'openweb(user)', u'Doomking(user)', u'taoyu(user)', u'mt3(user)', u'briatte(user)', u'empjustine(user)', u'twneale(user)', u'chu052(user)', u'zambrose(user)', u'shockley(user)', u'billday(user)', u'chengen(user)', u'deepblue-phoenix(user)', u'LJ001(user)', u'pantelis(user)', u'ssingh10(user)', u'cacciaresi(user)', u'Basphil(user)', u'EmotionMask(user)', u'rosco5(user)', u'hectoregm(user)', u'bnvk(user)', u'bisko(user)', u'davidrd123(user)', u'w1mvy(user)', u'laixintao(user)', u'stumm(user)', u'arthur-e(user)', u'illiteratecoder(user)', u'maysarax(user)', u'liule(user)', u'slaporte(user)', u'vmharrel(user)', u'xinnan(user)', u'Linusp(user)', u'aboutaaron(user)', u'omarayad1(user)', u'dougapd(user)', u'ggarlic(user)', u'zhurizhe(user)', u'scorpiohjx(user)', u'bendaizer(user)', u'valentinzberea(user)', u'chaoticjoy(user)', u'ekanol(user)', u'xiaxianzhi(user)', u'phillpafford(user)', u'paulkfc(user)', u'onozka(user)', u'samuelleach(user)', u'campeterson(user)', u'gar(user)', u'chrisapril(user)', u'AshBT(user)', u'yangzhandong999(user)', u'brooklynrob(user)', u'sandyleo26(user)', u'albertsun(user)', u'gravitymonkey(user)', u'pygloo(user)', u'sp0rus(user)', u'seancron(user)', u'velthuis(user)', u'jgrosche(user)', u'kostyll(user)', u'fone4u(user)', u'KRostyslav(user)', u'fangjq(user)', u'VagrantStory(user)', u'judywawira(user)', u'ngopal(user)', u'norri(user)', u'DanielleSucher(user)', u'amitagrawal(user)', u'iroid(user)', u'Zolomon(user)', u'rsmoz(user)', u'bngoogle(user)', u'mfalcon(user)', u'panckreous(user)', u'nipengadmaster(user)', u'albhardy(user)', u'michaeldhealy(user)', u'jinalee2531(user)', u'rabit(user)', u'macdet(user)', u'analyticsPierce(user)', u'liuyix(user)', u'mikedorseyjr(user)', u'zhouzhuojie(user)', u'hellysmile(user)', u'jingle(user)', u'Gonzillaaa(user)', u'lrvick(user)', u'daveturnbull(user)', u'umaar(user)', u'donigian(user)', u'japerk(user)', u'danielmavi(user)', u'andrzejbe(user)', u'elimisteve(user)', u'Imior(user)', u'ismaild(user)', u'feedmecookies(user)', u'cicuz(user)', u'gerad(user)', u'valdergallo(user)', u'rnagle(user)', u'subasish(user)', u'jeffmaxton(user)', u'mdyang(user)', u'semerda(user)', u'nishant8BITS(user)', u'steverife(user)', u'nabeelmukhtar(user)', u'haruna-nishiwaki(user)', u'mtfelix(user)', u'chc170(user)', u'flyer103(user)', u'marctmiller(user)', u'huangliang2211(user)', u'hisakato(user)', u'klous(user)', u'hertzel(user)', u'bolaft(user)', u'kharakawa(user)', u'kencochrane(user)', u'GuosongChen(user)', u'carhartl(user)', u'mkhDev(user)', u'LucianaLu(user)', u'angusshire(user)', u'buffpojken(user)', u'ardendertat(user)', u'sudheervazrapu(user)', u'aljosa(user)', u'CodingBob(user)', u'lizheming(user)', u'jasonyaowu(user)', u'kevinbluer(user)', u'wojtha(user)', u'srikanth-npcompete(user)', u'echoapp(user)', u'Stankye(user)', u'blooberr(user)', u'eiriks(user)', u'oyomei(user)', u'netjack(user)', u'ProximaMonkey(user)', u'Tommassissimo(user)', u'nicib83(user)', u'lsevero(user)', u'amygdala(user)', u'nfx(user)', u'vuran(user)', u'mahmoudimus(user)', u'lixiaojun(user)', u'brianly(user)', u'gavelez(user)', u'th0ma5w(user)', u'jquattrocchi(user)', u'jonhurlock(user)', u'nbartels(user)', u'beibeiyang(user)', u'whitefoxx(user)', u'FrankRouter(user)', u'andravasile(user)', u'andrewiiird(user)', u'jensenrf(user)', u'Smerity(user)', u'shamiksharma(user)', u'butterwick(user)', u'huhupao(user)', u'ahmdrefat(user)', u'nelliemckesson(user)', u'okumin(user)', u'superfine(user)', u'yohokuno(user)', u'Nooby(user)', u'lovej(user)', u'zen4ever(user)', u'shispt(user)', u'orlandoferrer(user)', u'numanyilmaz(user)', u'pxue(user)', u'nava45(user)', u'harit-sunrun(user)', u'Vheissu(user)', u'blackte(user)', u'skpatidar(user)', u'sukottokun(user)', u'xuxiandi(user)', u'mrcrabby(user)', u'ozgur(user)', u'ikegami-yukino(user)', u'songjs1993(user)', u'sabman(user)', u'van5150(user)', u'hite(user)', u'darron(user)', u'ahill1(user)', u'chaoyangqq(user)', u'KwangKa(user)', u'danielpreotiuc(user)', u'Cerya(user)', u'mcanthony(user)', u'amuise(user)', u'sungis(user)', u'defcyy(user)', u'tishon(user)', u'lingling2012(user)', u'wernerramaekers(user)', u'jkbrzt(user)', u'jexchan(user)', u'Zouyiran(user)', u'colfire(user)', u'amanahuja(user)', u'dcj(user)', u'liuzz1983(user)', u'clarecorthell(user)', u'lmmsoft(user)', u'mlaprise(user)', u'sp00(user)', u'burakerdem(user)', u'lucianosb(user)', u'sebasmagri(user)', u'janedallaway(user)', u'evandrix(user)', u'Kilian(user)', u'tikums(user)', u'jdmiranda(user)', u'shunwen(user)', u'kyrcha(user)', u'ryan-w-moore(user)', u'mikedory(user)', u'Xeoncross(user)', u'hardisty(user)', u'sanpingz(user)', u'chharish(user)', u'ryanoneill(user)', u'sammyrulez(user)', u'yishino22(user)', u'pentesticles(user)', u'ichim-david(user)', u'JimberXin(user)', u'souri(user)', u'matsu911(user)', u'alecnascimento(user)', u'cmlh(user)', u'inkless(user)', u'dgleebits(user)', u'mduering(user)', u'adriaant(user)', u'fmaume(user)', u'denisarnaud(user)', u'lxj0276(user)', u'dan0(user)', u'mjankiewicz(user)', u'gabrielluong(user)', u'ccxysfh(user)', u'yxlwfds(user)', u'forrest001(user)', u'patrickclancy(user)', u'microamp(user)', u'website0207(user)', u'MadDataScience(user)', u't3j45(user)', u'kod3r(user)', u'satybald(user)', u'arnim(user)', u'invinciblejha(user)', u'ch0psticks(user)', u'dozean(user)', u'phildow(user)', u'jonathanyee(user)', u'putorti(user)', u'odewahn(user)', u'degiere(user)', u'prashanthmcr(user)', u'datomnurdin(user)', u'nvoa2358(user)', u'jcamacaro(user)', u'anneeeee(user)', u'elviswf(user)', u'knapsack(user)', u'spartakan(user)', u'jackylee(user)', u'liujiantong(user)', u'vshulyak(user)', u'dextercasey(user)', u'darkseed(user)', u'Kudo(user)', u'jasonbogovich(user)', u'supaket(user)', u'miclovich(user)', u'firesofmay(user)', u'cchamma(user)', u'levigross(user)', u'blynch(user)', u'octoberman(user)', u'fasouto(user)', u'vkurchatkin(user)', u'msbanik(user)', u'carlplant(user)', u'infantiablue(user)', u'lulstrup(user)', u'andreigta(user)', u'johnthedebs(user)', u'jcesarblues(user)', u'kimispencer(user)', u'mgalushka(user)', u'takuan-osho(user)', u'Geek4IT(user)', u'arnab-chakrabarti(user)', u'galvez(user)', u'klgraham(user)', u'slavik777(user)', u'qxde01(user)', u'bertomartin(user)', u'doolin(user)', u'JosephLaurino(user)', u'brycepj(user)', u'tschloss(user)', u'ypxu(user)', u'aaronlifton(user)', u'marco-s(user)', u'zebpalmer(user)', u'skibblenybbles(user)', u'max08(user)', u'neko1990(user)', u'mvid(user)', u'rays(user)', u'lizbew(user)', u'laranea(user)', u'mikeloukides(user)', u'shulinway(user)', u'realoptimal(user)', u'jmorenoamor(user)', u'prb(user)', u'screaming(user)', u'twistdroach(user)', u'bowenli37(user)', u'smokymountains(user)', u'RolandAdorjani(user)', u'vvoody(user)', u'zgw21cn(user)', u'jph98(user)', u'lkrids(user)', u'dudarev(user)', u'gradetwo(user)', u'zormit(user)', u'vulcangz(user)', u'rbarraud(user)', u'miron(user)', u'calvdee(user)', u'phernandez(user)', u'deathcape(user)', u'anylzer(user)', u'theantisofa(user)', u'zdogma(user)', u'alessandroleite(user)', u'annoit(user)', u'conditionalogic(user)', u'udooz(user)', u'ssx(user)', u'diskang(user)', u'getnpk(user)', u'twleung(user)', u'bugkiwi(user)', u'darwin31(user)', u'retrobabel(user)', u'indiejoseph(user)', u'shahkushan1(user)', u'JGeovani(user)', u'joskid(user)', u'omarberg(user)', u'kcnickerson(user)', u'eraldcoil(user)', u'stevencoding(user)', u'ygbr(user)', u'HandyAndyShortStack(user)', u'mki(user)', u'osiloke(user)', u'amitkumar01(user)', u'robbfitzsimmons(user)', u'cegme(user)', u'lslab(user)', u'KWMalik(user)', u'pinoystartup(user)', u'solutionsmith(user)', u'mikhailxu(user)', u'vgoklani(user)', u'xuqiang(user)', u'motord(user)', u'lmazzon(user)', u'katajuta(user)', u'gawbul(user)', u'bcho(user)', u'nellaivijay(user)', u'philshem(user)', u'jacktang(user)', u'soarer(user)', u'zeristor(user)', u'ptwobrussell(user)', u'bigsml(user)', u'mtayseer(user)', u'mcroydon(user)', u'mirjalil(user)', u'dlkahn(user)', u'wuzhenyusjtu(user)', u'numb3r3(user)', u'edwelker(user)', u'wenLiangcan(user)', u'soumyasd(user)', u'aviot(user)', u'gaohao(user)', u'mohamadhussien(user)', u'bin3(user)', u'ivanfioravanti(user)', u'alixaxel(user)', u'tankle(user)', u'blu-elephant(user)', u'benregn(user)', u'yellowBirdy(user)', u'Gal3riel(user)', u'JohnStuartRutledge(user)', u'stonegao(user)', u'cdesch(user)', u'nborwankar(user)', u'vinay631(user)', u'geojackass-shoichi(user)', u'LuRsT(user)', u'trevorhales(user)', u'davyfeng(user)', u'boskaiolo(user)', u'kemaltaskin(user)', u'rfinkers(user)', u'tzuryby(user)', u'jasonyaw(user)', u'Eavie(user)', u'swinton(user)', u'drelu(user)', u'yasu00000(user)', u'samesense(user)', u'brimbrom(user)', u'ggtr1138(user)', u'klaut(user)', u'sleeptillseven(user)', u'lzell(user)', u'sangeethamuralidharan(user)', u'torsday(user)', u'kevinchiu(user)', u'mfadel85(user)', u'babumathew(user)', u'ljdawn(user)', u'hohoqi(user)', u'masroor(user)', u'zarzecks(user)', u'itsBegun(user)', u'pors(user)', u'aidiss(user)', u'cheekybastard(user)', u'ekgren(user)', u'bazinga777(user)', u'SamLebarbare(user)', u'zhaodylan(user)', u'guiambros(user)', u'sunchengjie(user)', u'dr00(user)', u'alessioalex(user)', u'ido(user)', u'caryhague(user)', u'BruFFHS(user)', u'manav(user)', u'katychuang(user)', u'Stecki(user)', u'aarynling(user)', u'wangqi(user)', u'shijinkui(user)', u'sunyt(user)', u'apitts(user)', u'wangrn(user)', u'docete(user)', u'ustramooner(user)', u'Fansion(user)', u'sou(user)', u'Bllee(user)', u'm4ngust(user)', u'henrikno(user)', u'Buttonwood(user)', u'pcdinh(user)', u'icyphoenix(user)', u'shyamsingh(user)', u'semantium(user)', u'jonathanjo(user)', u'gdberrio(user)', u'srinatar(user)', u'skotwani(user)', u'antiface(user)', u'marksands(user)', u'abousha(user)', u'B-Rich(user)', u'cpyo(user)', u'umang94(user)', u'deerishi(user)', u'TaulantRamabaja(user)', u'sudar(user)', u'wmelton(user)', u'rportugal(user)', u'cpatni(user)', u'clyfe(user)', u'gaohailang(user)', u'jin-king(user)', u'chuckchen(user)', u'moutai(user)', u'wonderisland(user)', u'Tvli(user)', u'beali(user)', u'sunan(user)', u'shaunc(user)', u'haraball(user)', u'hackerway(user)', u'bjpcjp(user)', u'Jason-Chan(user)', u'tomconte(user)', u'swix(user)', u'Eagles2F(user)', u'ayaniimi213(user)', u'JT5D(user)', u'yeeyou(user)', u'clwen(user)', u'Arthraim(user)', u'srbjwe(user)', u'gui11aume(user)', u'immersinn(user)', u'suzuki(user)', u'sjwilliams(user)', u'dream4j(user)', u'zmughal(user)', u'ch710798472(user)', u'antiviruser(user)', u'abuiles(user)', u'Jamedxs(user)', u'aronlindberg(user)', u'lillies(user)', u'zavg(user)', u'divyakkm(user)', u'slacy(user)', u'richallensf(user)', u'ayakix(user)', u'rayleyva(user)', u'barce(user)', u'eephus101(user)', u'capitolmuckrakr(user)', u'azarbakht(user)', u'bigsnarfdude(user)', u'zhenv5(user)', u'lyddonb(user)', u'c0der007(user)', u'joshbhamilton(user)', u'tomze(user)', u'frfeni(user)', u'maurorodrigues(user)', u'yangdahui(user)', u'megansquire(user)', u'sraghav(user)', u'lao605(user)', u'tracyliang18(user)', u'srspear(user)', u'yifudiao(user)', u'oskar-j(user)', u'yankay(user)', u'Macolulu(user)', u'jrstanley(user)', u'claudeck(user)']\n"
     ]
    }
   ],
   "source": [
    "print [i for (i,o) in g.in_edges(['Mining-the-Social-Web(repo)'])]"
   ]
  },
  {
   "cell_type": "markdown",
   "metadata": {},
   "source": [
    "The classic Krackhardt kite graph"
   ]
  },
  {
   "cell_type": "code",
   "execution_count": 20,
   "metadata": {
    "collapsed": false
   },
   "outputs": [
    {
     "name": "stdout",
     "output_type": "stream",
     "text": [
      "Degree Centrality\n",
      "[(3, 0.6666666666666666), (5, 0.5555555555555556), (6, 0.5555555555555556), (0, 0.4444444444444444), (1, 0.4444444444444444), (2, 0.3333333333333333), (4, 0.3333333333333333), (7, 0.3333333333333333), (8, 0.2222222222222222), (9, 0.1111111111111111)]\n",
      "\n",
      "Betweenness Centrality\n",
      "[(7, 0.38888888888888884), (5, 0.23148148148148148), (6, 0.23148148148148148), (8, 0.2222222222222222), (3, 0.10185185185185183), (0, 0.023148148148148143), (1, 0.023148148148148143), (2, 0.0), (4, 0.0), (9, 0.0)]\n",
      "\n",
      "Closeness Centrality\n",
      "[(5, 0.6428571428571429), (6, 0.6428571428571429), (3, 0.6), (7, 0.6), (0, 0.5294117647058824), (1, 0.5294117647058824), (2, 0.5), (4, 0.5), (8, 0.42857142857142855), (9, 0.3103448275862069)]\n"
     ]
    }
   ],
   "source": [
    "kkg = nx.generators.small.krackhardt_kite_graph()\n",
    "print \"Degree Centrality\"\n",
    "print sorted(nx.degree_centrality(kkg).items(), key=itemgetter(1), reverse=True)\n",
    "print\n",
    "print \"Betweenness Centrality\"\n",
    "print sorted(nx.betweenness_centrality(kkg).items(), key=itemgetter(1), reverse=True)\n",
    "print\n",
    "print \"Closeness Centrality\"\n",
    "print sorted(nx.closeness_centrality(kkg).items(), key=itemgetter(1), reverse=True)"
   ]
  },
  {
   "cell_type": "markdown",
   "metadata": {},
   "source": [
    "Add \"follows\" edges between stargazers in the graph if any relationships exist"
   ]
  },
  {
   "cell_type": "code",
   "execution_count": null,
   "metadata": {
    "collapsed": false
   },
   "outputs": [],
   "source": [
    "    for i, sg in enumerate(stargazers):\n",
    "        try:\n",
    "            for follower in sg.get_followers():\n",
    "                if follower.login + '(user)' in g:\n",
    "                    g.add_edge(follower.login + '(user)', sg.login + '(user)', type='follows')\n",
    "        except Exception, e:  # ssl.SSLError\n",
    "            print >> sys.stderr, \"Encountered an error fetching followers for\", sg.login, \"Skipping.\"\n",
    "            print >> sys.stderr, e\n",
    "        print \"Processed\", i + 1, \" stargazers. Num nodes/edges in graph\", \\\n",
    "            g.number_of_nodes(), \"/\", g.number_of_edges()\n",
    "        print \"Rate limit remaining\", client.rate_limiting\n",
    "\n",
    "nx.write_gpickle(g, \"data/github.gpickle.1\")"
   ]
  },
  {
   "cell_type": "markdown",
   "metadata": {},
   "source": [
    "Load graph and analyze centrality measures:"
   ]
  },
  {
   "cell_type": "code",
   "execution_count": 25,
   "metadata": {
    "collapsed": false
   },
   "outputs": [
    {
     "name": "stdout",
     "output_type": "stream",
     "text": [
      "Degree Centrality\n",
      "[(u'kennethreitz(user)', 0.1218568665377176), (u'ptwobrussell(user)', 0.11121856866537717), (u'trietptm(user)', 0.05609284332688588), (u'JT5D(user)', 0.024177949709864605), (u'daimajia(user)', 0.02321083172147002), (u'rohithadassanayake(user)', 0.022243713733075435), (u'hammer(user)', 0.0183752417794971), (u'isnowfy(user)', 0.0183752417794971), (u'japerk(user)', 0.015473887814313346), (u'gawbul(user)', 0.013539651837524178)]\n",
      "\n",
      "Betweenness Centrality\n",
      "[(u'kennethreitz(user)', 0.0006747044501158732), (u'daimajia(user)', 0.000385723728188353), (u'hupili(user)', 0.000301463690477305), (u'rohithadassanayake(user)', 0.0002649510074691842), (u'mcroydon(user)', 0.0002552767068431009), (u'douglas(user)', 0.0002078414263539184), (u'acdha(user)', 0.00017179685466641448), (u'tswicegood(user)', 0.00011655971883361639), (u'trietptm(user)', 0.00011531142197863787), (u'isnowfy(user)', 0.00010298449053572532)]\n",
      "\n",
      "Closeness Centrality\n",
      "[(u'trietptm(user)', 0.0602264325668581), (u'ido(user)', 0.04062147404900064), (u'JT5D(user)', 0.026839663819516954), (u'rohithadassanayake(user)', 0.026450283845198222), (u'douglas(user)', 0.019481346784187913), (u'kuntoaji(user)', 0.01807436062755212), (u'cnunciato(user)', 0.018052869116698903), (u'gawbul(user)', 0.016229034736758432), (u'frac(user)', 0.014654886995312527), (u'brunojm(user)', 0.014524039789997239)]\n"
     ]
    }
   ],
   "source": [
    "g = nx.read_gpickle(\"data/github.gpickle.1\")\n",
    "# Create a copy of the graph so that we can iteratively mutate the copy as needed for experimentation\n",
    "h = g.copy()\n",
    "\n",
    "# Remove the seed of the interest graph, which is a supernode, in order to get a better idea of the network dynamics\n",
    "h.remove_node('Mining-the-Social-Web(repo)')\n",
    "\n",
    "# XXX: Remove any other nodes that appear to be supernodes. Filter any other nodes that you can by threshold\n",
    "# criteria or heuristics from inspection.\n",
    "dc = sorted(nx.degree_centrality(h).items(), key=itemgetter(1), reverse=True)\n",
    "print \"Degree Centrality\"\n",
    "print dc[:10]\n",
    "print\n",
    "\n",
    "bc = sorted(nx.betweenness_centrality(h).items(), key=itemgetter(1), reverse=True)\n",
    "print \"Betweenness Centrality\"\n",
    "print bc[:10]\n",
    "print\n",
    "\n",
    "print \"Closeness Centrality\"\n",
    "cc = sorted(nx.closeness_centrality(h).items(), key=itemgetter(1), reverse=True)\n",
    "print cc[:10]"
   ]
  },
  {
   "cell_type": "markdown",
   "metadata": {},
   "source": [
    "Add each stargazer's additional starred repos and add edges to find additional interests"
   ]
  },
  {
   "cell_type": "code",
   "execution_count": null,
   "metadata": {
    "collapsed": true
   },
   "outputs": [],
   "source": [
    "MAX_REPOS = 500\n",
    "for i, sg in enumerate(stargazers):\n",
    "    print sg.login\n",
    "    try:\n",
    "        for starred in sg.get_starred()[:MAX_REPOS]:  # Slice to avoid supernodes\n",
    "            g.add_node(starred.name + '(repo)', type='repo', lang=starred.language, \\\n",
    "                       owner=starred.owner.login)\n",
    "            g.add_edge(sg.login + '(user)', starred.name + '(repo)', type='gazes')\n",
    "    except Exception, e:  # ssl.SSLError:\n",
    "        print \"Encountered an error fetching starred repos for\", sg.login, \"Skipping.\"\n",
    "    print \"Processed\", i + 1, \"stargazers' starred repos\"\n",
    "    print \"Num nodes/edges in graph\", g.number_of_nodes(), \"/\", g.number_of_edges()\n",
    "    print \"Rate limit\", client.rate_limiting\n",
    "\n",
    "# Save your work by serializing out another snapshot of the graph\n",
    "nx.write_gpickle(g, \"data/github.gpickle.2\")"
   ]
  },
  {
   "cell_type": "markdown",
   "metadata": {},
   "source": [
    "Load graph:"
   ]
  },
  {
   "cell_type": "code",
   "execution_count": 27,
   "metadata": {
    "collapsed": false
   },
   "outputs": [
    {
     "name": "stdout",
     "output_type": "stream",
     "text": [
      "Name: \n",
      "Type: DiGraph\n",
      "Number of nodes: 82898\n",
      "Number of edges: 202431\n",
      "Average in degree:   2.4419\n",
      "Average out degree:   2.4419\n"
     ]
    }
   ],
   "source": [
    "g = nx.read_gpickle(\"data/github.gpickle.2\")\n",
    "print(nx.info(g))"
   ]
  },
  {
   "cell_type": "markdown",
   "metadata": {},
   "source": [
    "Analyse repositories:"
   ]
  },
  {
   "cell_type": "code",
   "execution_count": 28,
   "metadata": {
    "collapsed": false
   },
   "outputs": [
    {
     "name": "stdout",
     "output_type": "stream",
     "text": [
      "Popular repositories\n",
      "[(u'Mining-the-Social-Web(repo)', 1035), (u'bootstrap(repo)', 281), (u'd3(repo)', 231), (u'dotfiles(repo)', 191), (u'free-programming-books(repo)', 158), (u'storm(repo)', 155), (u'node-v0.x-archive(repo)', 137), (u'requests(repo)', 135), (u'Mining-the-Social-Web-2nd-Edition(repo)', 133), (u'scrapy(repo)', 130)]\n",
      "\n",
      "Respositories that ptwobrussell has bookmarked\n",
      "[(u'gsoc-freebase-graph-importer(repo)', u'Java'), (u'schema(repo)', u'Clojure'), (u'dj-database-url(repo)', u'Python'), (u'stackdio(repo)', u'Python'), (u'x6502(repo)', u'C'), (u'TextBlob(repo)', u'Python'), (u'ipython-notebox(repo)', u'Ruby'), (u'networkx(repo)', u'Python'), (u'tiddlylisp(repo)', u'Python'), (u'fastly-py(repo)', u'Python'), (u'elasticsearch-py(repo)', u'Python'), (u'scikit-tensor(repo)', u'Python'), (u'webscalesql-5.6(repo)', u'C++'), (u'x-editable(repo)', u'JavaScript'), (u'premailer(repo)', u'Python'), (u'vowpal_wabbit(repo)', u'C++'), (u'CoreNLP(repo)', u'Java'), (u'torch-demos(repo)', u'Lua'), (u'echelon(repo)', u'Clojure'), (u'Mario-Level-1(repo)', u'Python'), (u'google-ngram-downloader(repo)', u'Python'), (u'gspread(repo)', u'Python'), (u'elephant(repo)', u'Python'), (u'Recipes-for-Mining-Twitter(repo)', u'JavaScript'), (u'django-tables2(repo)', u'Python'), (u'Crepe(repo)', u'Lua'), (u'django-froala-editor(repo)', u'JavaScript'), (u'qu(repo)', u'Ruby'), (u'Mining-the-Social-Web(repo)', u'JavaScript'), (u'django-zebra(repo)', u'Python'), (u'bootstrap-combobox(repo)', u'CSS'), (u'pdfminer(repo)', u'Python'), (u'django-url-shortener(repo)', u'Python'), (u'django-herokuapp(repo)', u'Python'), (u'portia(repo)', u'JavaScript'), (u'PyNES(repo)', u'Python'), (u'tab-snooze(repo)', u'JavaScript'), (u'django-bootstrap-wysiwyg(repo)', u'Python'), (u'pinax-theme-bootstrap(repo)', u'HTML'), (u'PayPal-APIs-Up-and-Running(repo)', u'Python'), (u'SimFinger(repo)', u'Objective-C'), (u'restricted-boltzmann-machines(repo)', u'Python'), (u'PyGithub(repo)', u'Python'), (u'django-pipeline(repo)', u'Python'), (u'html-email-resources(repo)', None), (u'django-heroku-memcacheify(repo)', u'Python'), (u'boot2docker(repo)', u'Shell'), (u'rescal.py(repo)', u'Python'), (u'django-shorturls(repo)', u'Python'), (u'yasp(repo)', u'JavaScript'), (u'ipython-docker(repo)', u'Shell'), (u'django-cacheback(repo)', u'Python'), (u'Legal-Forms(repo)', u'Python'), (u'PH7(repo)', u'C'), (u'celery-flower-heroku(repo)', None), (u'django-wysihtml5(repo)', u'Python'), (u'bookstore(repo)', u'Python'), (u'I8080(repo)', u'C'), (u'33-questions(repo)', None), (u'securegraph(repo)', u'Java'), (u'gitbook(repo)', u'JavaScript'), (u'micropython(repo)', u'C'), (u'bootstrap-wysihtml5(repo)', u'JavaScript'), (u'docker-jumpstart(repo)', u'CSS'), (u'templates(repo)', u'HTML'), (u'tomorrow-theme(repo)', u'CSS'), (u'plumbing(repo)', u'Clojure'), (u'treebank(repo)', u'Ruby'), (u'vagrant-aws(repo)', u'Ruby'), (u'alewrap(repo)', u'C++'), (u'tan-clustering(repo)', u'Python'), (u'lazysort(repo)', u'C'), (u'vagrant-omnibus(repo)', u'Ruby'), (u'wdb(repo)', u'CSS'), (u'shash(repo)', u'C'), (u'pyelly(repo)', u'Python'), (u'cmacro(repo)', u'Common Lisp'), (u'camus(repo)', u'Java'), (u'requests-futures(repo)', u'Python'), (u'How-to-Make-a-Computer-Operating-System(repo)', u'C'), (u'AirChat(repo)', u'Perl'), (u'brain(repo)', u'JavaScript'), (u'Algorithmic-Alley(repo)', u'C#'), (u'quietnet(repo)', u'Python'), (u'news_site_frontend_omniauth(repo)', u'Ruby'), (u'redshift(repo)', u'C'), (u'django-social-auth(repo)', u'Python'), (u'envoy(repo)', u'Python'), (u'iTorch(repo)', u'Lua'), (u'PyStratus(repo)', u'Python'), (u'tablesorter(repo)', u'JavaScript'), (u'jusText(repo)', u'Python'), (u'Inquire(repo)', u'Python'), (u'ggplot(repo)', u'Python'), (u'django-compressor(repo)', u'Python'), (u'tmpnb(repo)', u'Python'), (u'Tweet-Relevance(repo)', u'Python'), (u'ipython(repo)', u'Python'), (u't(repo)', u'Ruby'), (u'sendgrid-python(repo)', u'Python'), (u'python-social-auth(repo)', u'Python'), (u'applepy(repo)', u'Python'), (u'django-stripe-payments(repo)', u'Python'), (u'go(repo)', u'Go'), (u'notebooks(repo)', u'HTML'), (u'storm(repo)', u'Java'), (u'django-user-accounts(repo)', u'Python'), (u'behemoth(repo)', u'Java'), (u'parallel-coordinates(repo)', u'JavaScript'), (u'handsontable(repo)', u'JavaScript'), (u'django-sslify(repo)', u'Python'), (u'python-linkedin(repo)', u'Python'), (u'butterfly(repo)', u'CoffeeScript'), (u'nbdiff(repo)', u'Python'), (u'django-mail-templated-simple(repo)', u'Python'), (u'hebel(repo)', u'Python'), (u'torch7(repo)', u'C'), (u'bootstrap-breadcrumbs(repo)', u'Python'), (u'twitter(repo)', u'Python'), (u'osx-gcc-installer(repo)', u'Python'), (u'gensim(repo)', u'Python'), (u'django-websocket-request(repo)', u'Python'), (u'vis(repo)', u'JavaScript'), (u'django-registration(repo)', u'Python'), (u'torch-ipython(repo)', u'Python'), (u'REAPER(repo)', u'Clojure'), (u'huginn(repo)', u'Ruby'), (u'finitio(repo)', u'JavaScript'), (u'pattern(repo)', u'Python')]\n",
      "\n",
      "Programming languages ptwobrussell is interested in\n",
      "[u'C', u'Shell', u'Java', u'CoffeeScript', u'Python', u'JavaScript', u'C++', u'Perl', u'Lua', u'Objective-C', u'HTML', u'Common Lisp', None, u'Go', u'Clojure', u'Ruby', u'CSS', u'C#']\n",
      "\n",
      "Supernode candidates\n",
      "[(u'trietptm(user)', 551), (u'JT5D(user)', 519), (u'Doppp(user)', 509), (u'matagus(user)', 507), (u'evandrix(user)', 505), (u'matiskay(user)', 505), (u'mcroydon(user)', 504), (u'daimajia(user)', 504), (u'takuan-osho(user)', 504), (u'sleyzerzon(user)', 504), (u'mtayseer(user)', 504), (u'jkbrzt(user)', 503), (u'hammer(user)', 503), (u'kcnickerson(user)', 503), (u'zmughal(user)', 503), (u'gr33ndata(user)', 503), (u'nellaivijay(user)', 503), (u'abecciu(user)', 503), (u'gaohailang(user)', 503), (u'aburan28(user)', 503), (u'masdude(user)', 502), (u'miyucy(user)', 502), (u'dotpot(user)', 502), (u'motord(user)', 502), (u'cb372(user)', 502), (u'kennethreitz(user)', 502), (u'twidi(user)', 502), (u'shuhei(user)', 502), (u'yasu00000(user)', 501), (u'ido(user)', 501), (u'ismaild(user)', 501), (u'ahmdrefat(user)', 501), (u'openweb(user)', 501), (u'ZoomQuiet(user)', 501), (u'hellysmile(user)', 501), (u'cheekybastard(user)', 501), (u'timelyportfolio(user)', 501), (u'digvan(user)', 501), (u'mapio(user)', 501), (u'aboutaaron(user)', 501), (u'marctmiller(user)', 501), (u'zen4ever(user)', 501), (u'manboubird(user)', 501), (u'jonathanyee(user)', 501), (u'rossant(user)', 501), (u'willi(user)', 501), (u'gawbul(user)', 501), (u'timmyshen(user)', 501), (u'aljosa(user)', 501), (u'barbietunnie(user)', 501), (u'mahmoudimus(user)', 501)]\n"
     ]
    }
   ],
   "source": [
    "# Get a list of repositories from the graph.\n",
    "repos = [n for n in g.nodes_iter() if g.node[n]['type'] == 'repo']\n",
    "# Most popular repos\n",
    "print \"Popular repositories\"\n",
    "print sorted([(n, d) for (n, d) in g.in_degree_iter()\n",
    "              if g.node[n]['type'] == 'repo'], key=itemgetter(1), reverse=True)[:10]\n",
    "print\n",
    "\n",
    "# Projects gazed at by a user\n",
    "print \"Respositories that ptwobrussell has bookmarked\"\n",
    "print [(n, g.node[n]['lang']) for n in g['ptwobrussell(user)']\n",
    "       if g['ptwobrussell(user)'][n]['type'] == 'gazes']\n",
    "print\n",
    "\n",
    "# Programming languages for each user\n",
    "print \"Programming languages ptwobrussell is interested in\"\n",
    "print list(set([g.node[n]['lang'] for n in g['ptwobrussell(user)']\n",
    "                if g['ptwobrussell(user)'][n]['type'] == 'gazes']))\n",
    "print\n",
    "\n",
    "# Find supernodes in the graph by approximating with a high number of outgoing edges\n",
    "print \"Supernode candidates\"\n",
    "print sorted([(n, len(g.out_edges(n))) for n in g.nodes_iter()\n",
    "              if g.node[n]['type'] == 'user' and len(g.out_edges(n)) > 500], key=itemgetter(1), reverse=True)"
   ]
  },
  {
   "cell_type": "markdown",
   "metadata": {},
   "source": [
    "Update graph to include nodes for programming languages by iterating over all of the repos, and adding edges for programming languages for each person in the graph. We'll also add edges back to repos so that we have a good point to \"pivot\" upon."
   ]
  },
  {
   "cell_type": "code",
   "execution_count": null,
   "metadata": {
    "collapsed": true
   },
   "outputs": [],
   "source": [
    "repos = [n for n in g.nodes_iter() if g.node[n]['type'] == 'repo']\n",
    "for repo in repos:\n",
    "    lang = (g.node[repo]['lang'] or \"\") + \"(lang)\"\n",
    "    stargazers = [u for (u, r, d) in g.in_edges_iter(repo, data=True) if d['type'] == 'gazes']\n",
    "    for sg in stargazers:\n",
    "        g.add_node(lang, type='lang')\n",
    "        g.add_edge(sg, lang, type='programs')\n",
    "        g.add_edge(lang, repo, type='implements')\n",
    "\n",
    "nx.write_gpickle(g, \"data/github.gpickle.3\")"
   ]
  },
  {
   "cell_type": "markdown",
   "metadata": {},
   "source": [
    "Load graph from pickle:"
   ]
  },
  {
   "cell_type": "code",
   "execution_count": 29,
   "metadata": {
    "collapsed": false
   },
   "outputs": [
    {
     "name": "stdout",
     "output_type": "stream",
     "text": [
      "Name: \n",
      "Type: DiGraph\n",
      "Number of nodes: 83080\n",
      "Number of edges: 301663\n",
      "Average in degree:   3.6310\n",
      "Average out degree:   3.6310\n"
     ]
    }
   ],
   "source": [
    "g = nx.read_gpickle(\"data/github.gpickle.3\")\n",
    "print nx.info(g)"
   ]
  },
  {
   "cell_type": "markdown",
   "metadata": {},
   "source": [
    "Query the graph to analyse use of programming languages:"
   ]
  },
  {
   "cell_type": "code",
   "execution_count": 30,
   "metadata": {
    "collapsed": false
   },
   "outputs": [
    {
     "name": "stdout",
     "output_type": "stream",
     "text": [
      "[u'CoffeeScript(lang)', u'Clojure(lang)', u'Objective-C++(lang)', u'Smali(lang)', u'PHP(lang)', u'Elixir(lang)', u'Liquid(lang)', u'Processing(lang)', u'Gnuplot(lang)', u'HTML(lang)', u'Rust(lang)', u'Pure Data(lang)', u'SuperCollider(lang)', u'Hy(lang)', u'Julia(lang)', u'Groovy(lang)', u'Haxe(lang)', u'CSS(lang)', u'Pascal(lang)', u'JavaScript(lang)', u'ApacheConf(lang)', u'Protocol Buffer(lang)', u'ActionScript(lang)', u'Common Lisp(lang)', u'QML(lang)', u'Xtend(lang)', u'Visual Basic(lang)', u'Objective-C(lang)', u'Delphi(lang)', u'KiCad(lang)', u'Objective-J(lang)', u'Scala(lang)', u'Smalltalk(lang)', u'Nginx(lang)', u'CMake(lang)', u'ASP(lang)', u'XML(lang)', u'Ruby(lang)', u'Logtalk(lang)', u'VHDL(lang)', u'LOLCODE(lang)', u'C++(lang)', u'RAML(lang)', u'PostScript(lang)', u'Vala(lang)', u'Bison(lang)', u'SaltStack(lang)', u'Frege(lang)', u'ChucK(lang)', u'Perl(lang)', u'Groff(lang)', u'Racket(lang)', u'Oz(lang)', u'SQLPL(lang)', u'LilyPond(lang)', u'F#(lang)', u'Opa(lang)', u'PureScript(lang)', u'Crystal(lang)', u'Eiffel(lang)', u'Stata(lang)', u'Handlebars(lang)', u'Lua(lang)', u'Smarty(lang)', u'Puppet(lang)', u'D(lang)', u'Idris(lang)', u'SQL(lang)', u'NSIS(lang)', u'Mirah(lang)', u'Brainfuck(lang)', u'Diff(lang)', u'NetLogo(lang)', u'Scheme(lang)', u'AspectJ(lang)', u'Java(lang)', u'nesC(lang)', u'XQuery(lang)', u'VCL(lang)', u'Matlab(lang)', u'PLSQL(lang)', u'Apex(lang)', u'Awk(lang)', u'Cuda(lang)', u'REALbasic(lang)', u'ANTLR(lang)', u'Swift(lang)', u'OCaml(lang)', u'AGS Script(lang)', u'IDL(lang)', u'Arduino(lang)', u'COBOL(lang)', u'Gosu(lang)', u'Brightscript(lang)', u'Rebol(lang)', u'Nix(lang)', u'Eagle(lang)', u'Factor(lang)', u'Ceylon(lang)', u'LiveScript(lang)', u'AutoHotkey(lang)', u'CartoCSS(lang)', u'Haskell(lang)', u'OpenEdge ABL(lang)', u'C(lang)', u'HaXe(lang)', u'R(lang)', u'KRL(lang)', u'Squirrel(lang)', u'DOT(lang)', u'Nu(lang)', u'Bro(lang)', u'Parrot(lang)', u'Max(lang)', u'Shell(lang)', u'SQF(lang)', u'GAP(lang)', u'Python(lang)', u'Thrift(lang)', u'Go(lang)', u'XSLT(lang)', u'Game Maker Language(lang)', u'GLSL(lang)', u'TypeScript(lang)', u'M(lang)', u'Standard ML(lang)', u'Coq(lang)', u'Ada(lang)', u'MoonScript(lang)', u'PigLatin(lang)', '(lang)', u'Verilog(lang)', u'Grammatical Framework(lang)', u'Mako(lang)', u'OpenSCAD(lang)', u'Makefile(lang)', u'Tcl(lang)', u'ColdFusion(lang)', u'Nimrod(lang)', u'SMT(lang)', u'Web Ontology Language(lang)', u'Nemerle(lang)', u'Modelica(lang)', u'SAS(lang)', u\"Cap'n Proto(lang)\", u'Perl6(lang)', u'Ragel in Ruby Host(lang)', u'AutoIt(lang)', u'PLpgSQL(lang)', u'NewLisp(lang)', u'Monkey(lang)', u'Kotlin(lang)', u'BlitzBasic(lang)', u'Lex(lang)', u'PureBasic(lang)', u'FORTRAN(lang)', u'Dart(lang)', u'C#(lang)', u'Elm(lang)', u'Forth(lang)', u'Fancy(lang)', u'DIGITAL Command Language(lang)', u'Io(lang)', u'Mathematica(lang)', u'Inno Setup(lang)', u'Prolog(lang)', u'Batchfile(lang)', u'Arc(lang)', u'Isabelle(lang)', u'VimL(lang)', u'PowerShell(lang)', u'Limbo(lang)', u'TeX(lang)', u'Assembly(lang)', u'AppleScript(lang)', u'Emacs Lisp(lang)', u'Logos(lang)', u'Cucumber(lang)', u'BitBake(lang)', u'Propeller Spin(lang)', u'Erlang(lang)', u'Hack(lang)']\n",
      "\n",
      "What languages do users program with?\n",
      "[u'Java(lang)', u'HTML(lang)', u'C#(lang)', u'Clojure(lang)', u'Ruby(lang)', u'Objective-C(lang)', u'C++(lang)', u'CoffeeScript(lang)', u'Lua(lang)', u'Go(lang)', u'Common Lisp(lang)', u'Perl(lang)', u'C(lang)', '(lang)', u'Shell(lang)', u'Python(lang)', u'JavaScript(lang)', u'CSS(lang)']\n",
      "Most popular languages\n",
      "[(u'JavaScript(lang)', 1035), (u'Python(lang)', 922), ('(lang)', 870), (u'Java(lang)', 803), (u'Ruby(lang)', 791), (u'C++(lang)', 743), (u'C(lang)', 738), (u'HTML(lang)', 728), (u'CSS(lang)', 708), (u'Shell(lang)', 662)]\n",
      "\n",
      "Number of Python programmers: 922\n",
      "Number of JavaScript programmers: 1035\n",
      "\n",
      "Number of programmers who use JavaScript and Python\n",
      "922\n",
      "Number of programmers who use JavaScript but not Python\n",
      "113\n"
     ]
    }
   ],
   "source": [
    "# What languages exist in the graph?\n",
    "print [n for n in g.nodes_iter() if g.node[n]['type'] == 'lang']\n",
    "print\n",
    "\n",
    "print 'What languages do users program with?'\n",
    "print [n for n in g['ptwobrussell(user)'] if g['ptwobrussell(user)'][n]['type'] == 'programs']\n",
    "\n",
    "print \"Most popular languages\"\n",
    "print sorted([(n, g.in_degree(n)) for n in g.nodes_iter()\n",
    "              if g.node[n]['type'] == 'lang'], key=itemgetter(1), reverse=True)[:10]\n",
    "print\n",
    "\n",
    "# How many users program in a particular language?\n",
    "python_programmers = [u for (u, l) in g.in_edges_iter('Python(lang)') if g.node[u]['type'] == 'user']\n",
    "print \"Number of Python programmers:\", len(python_programmers)\n",
    "\n",
    "javascript_programmers = [u for (u, l) in g.in_edges_iter('JavaScript(lang)')\n",
    "                          if g.node[u]['type'] == 'user']\n",
    "print \"Number of JavaScript programmers:\", len(javascript_programmers)\n",
    "print\n",
    "\n",
    "# What users program in both Python and JavaScript?\n",
    "print \"Number of programmers who use JavaScript and Python\"\n",
    "print len(set(python_programmers).intersection(set(javascript_programmers)))\n",
    "\n",
    "# Programmers who use JavaScript but not Python\n",
    "print \"Number of programmers who use JavaScript but not Python\"\n",
    "print len(set(javascript_programmers).difference(set(python_programmers)))"
   ]
  },
  {
   "cell_type": "markdown",
   "metadata": {},
   "source": [
    "Create a subgraph from a collection of nodes. In this case, the collection is all of the users in the original interest graph"
   ]
  },
  {
   "cell_type": "code",
   "execution_count": 31,
   "metadata": {
    "collapsed": false
   },
   "outputs": [
    {
     "name": "stdout",
     "output_type": "stream",
     "text": [
      "Stats on the extracted subgraph\n",
      "Name: \n",
      "Type: DiGraph\n",
      "Number of nodes: 1035\n",
      "Number of edges: 716\n",
      "Average in degree:   0.6918\n",
      "Average out degree:   0.6918\n"
     ]
    }
   ],
   "source": [
    "mtsw_users = [n for n in g if g.node[n]['type'] == 'user']\n",
    "h = g.subgraph(mtsw_users)\n",
    "\n",
    "print \"Stats on the extracted subgraph\"\n",
    "print nx.info(h)"
   ]
  },
  {
   "cell_type": "markdown",
   "metadata": {},
   "source": [
    "Visualize the social network of all people from the original interest graph."
   ]
  },
  {
   "cell_type": "code",
   "execution_count": 35,
   "metadata": {
    "collapsed": false
   },
   "outputs": [
    {
     "data": {
      "text/html": [
       "\n",
       "        <iframe\n",
       "            width=\"100%\"\n",
       "            height=\"900px\"\n",
       "            src=\"visualization/force.html\"\n",
       "            frameborder=\"0\"\n",
       "            allowfullscreen\n",
       "        ></iframe>\n",
       "        "
      ],
      "text/plain": [
       "<IPython.lib.display.IFrame at 0x10d76490>"
      ]
     },
     "metadata": {},
     "output_type": "display_data"
    }
   ],
   "source": [
    "from IPython.display import IFrame\n",
    "from IPython.core.display import display\n",
    "\n",
    "d = json_graph.node_link_data(h)\n",
    "json.dump(d, open('visualization/force.json', 'w'))\n",
    "\n",
    "viz_file = 'visualization/force.html'\n",
    "display(IFrame(viz_file, '100%', '900px'))"
   ]
  }
 ],
 "metadata": {
  "kernelspec": {
   "display_name": "Python 2",
   "language": "python",
   "name": "python2"
  },
  "language_info": {
   "codemirror_mode": {
    "name": "ipython",
    "version": 2
   },
   "file_extension": ".py",
   "mimetype": "text/x-python",
   "name": "python",
   "nbconvert_exporter": "python",
   "pygments_lexer": "ipython2",
   "version": "2.7.10"
  }
 },
 "nbformat": 4,
 "nbformat_minor": 0
}
