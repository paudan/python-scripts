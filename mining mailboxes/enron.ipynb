{
 "cells": [
  {
   "cell_type": "code",
   "execution_count": null,
   "metadata": {
    "collapsed": true
   },
   "outputs": [],
   "source": [
    "# Example from Mining the Social Web, Section 6"
   ]
  },
  {
   "cell_type": "markdown",
   "metadata": {},
   "source": [
    "### Enron email database ###"
   ]
  },
  {
   "cell_type": "code",
   "execution_count": 1,
   "metadata": {
    "collapsed": true
   },
   "outputs": [],
   "source": [
    "from functions import *"
   ]
  },
  {
   "cell_type": "markdown",
   "metadata": {},
   "source": [
    "Enron database statistics:"
   ]
  },
  {
   "cell_type": "code",
   "execution_count": 4,
   "metadata": {
    "collapsed": false
   },
   "outputs": [
    {
     "name": "stdout",
     "output_type": "stream",
     "text": [
      "2016-11-05T22:59:00.299+0200 I CONTROL  [main] Hotfix KB2731284 or later update is installed, no need to zero-out data files\n",
      "MongoDB shell version: 3.2.8\n",
      "connecting to: enron\n",
      "{\n",
      "\t\"ns\" : \"enron.mbox\",\n",
      "\t\"count\" : 41299,\n",
      "\t\"size\" : 219359952,\n",
      "\t\"avgObjSize\" : 5311,\n",
      "\t\"numExtents\" : 12,\n",
      "\t\"storageSize\" : 222146560,\n",
      "\t\"lastExtentSize\" : 62554112,\n",
      "\t\"paddingFactor\" : 1,\n",
      "\t\"paddingFactorNote\" : \"paddingFactor is unused and unmaintained in 3.0. It remains hard coded to 1.0 for compatibility only.\",\n",
      "\t\"userFlags\" : 1,\n",
      "\t\"capped\" : false,\n",
      "\t\"nindexes\" : 0,\n",
      "\t\"totalIndexSize\" : 0,\n",
      "\t\"indexSizes\" : {\n",
      "\t\t\n",
      "\t},\n",
      "\t\"ok\" : 1\n",
      "}\n",
      "\n"
     ]
    }
   ],
   "source": [
    "mongo_cmd('enron', 'db.mbox.stats()')"
   ]
  },
  {
   "cell_type": "markdown",
   "metadata": {},
   "source": [
    "Message counts by year in the database"
   ]
  },
  {
   "cell_type": "code",
   "execution_count": 5,
   "metadata": {
    "collapsed": false
   },
   "outputs": [
    {
     "name": "stdout",
     "output_type": "stream",
     "text": [
      "+------+-------+----------+\n",
      "| Year | Month | Num Msgs |\n",
      "+------+-------+----------+\n",
      "| 1997 |     1 |        1 |\n",
      "| 1998 |     1 |        1 |\n",
      "| 2000 |    12 |        1 |\n",
      "| 2001 |     1 |        3 |\n",
      "| 2001 |     2 |        3 |\n",
      "| 2001 |     3 |       21 |\n",
      "| 2001 |     4 |      811 |\n",
      "| 2001 |     5 |     2118 |\n",
      "| 2001 |     6 |     1650 |\n",
      "| 2001 |     7 |      802 |\n",
      "| 2001 |     8 |     1538 |\n",
      "| 2001 |     9 |     3538 |\n",
      "| 2001 |    10 |    10630 |\n",
      "| 2001 |    11 |     9219 |\n",
      "| 2001 |    12 |     4541 |\n",
      "| 2002 |     1 |     3611 |\n",
      "| 2002 |     2 |     1919 |\n",
      "| 2002 |     3 |      514 |\n",
      "| 2002 |     4 |       97 |\n",
      "| 2002 |     5 |       85 |\n",
      "| 2002 |     6 |      166 |\n",
      "| 2002 |    10 |        1 |\n",
      "| 2002 |    12 |        1 |\n",
      "| 2004 |     2 |       26 |\n",
      "| 2020 |    12 |        2 |\n",
      "+------+-------+----------+\n"
     ]
    }
   ],
   "source": [
    "client = pymongo.MongoClient()\n",
    "db = client.enron\n",
    "mbox = db.mbox\n",
    "results = list(mbox.aggregate([\n",
    "    {\"$project\": {\n",
    "        \"_id\": 0,\n",
    "        \"DateBucket\": {\n",
    "            \"year\": {\"$year\": \"$Date\"},\n",
    "            \"month\": {\"$month\": \"$Date\"},\n",
    "            \"day\": {\"$dayOfMonth\": \"$Date\"},\n",
    "            \"hour\": {\"$hour\": \"$Date\"},\n",
    "        }\n",
    "    }\n",
    "    },\n",
    "    {\"$group\": {\n",
    "        \"_id\": {\"year\": \"$DateBucket.year\", \"month\": \"$DateBucket.month\"},\n",
    "        \"num_msgs\": {\"$sum\": 1}\n",
    "    }\n",
    "    },\n",
    "    {\"$sort\": {\"_id.year\": 1, \"_id.month\": 1} }\n",
    "]))\n",
    "\n",
    "pt = PrettyTable(field_names=['Year', 'Month', 'Num Msgs'])\n",
    "pt.align['Num Msgs'], pt.align['Month'] = 'r', 'r'\n",
    "[pt.add_row([result['_id']['year'], result['_id']['month'], result['num_msgs']]) for result in results]\n",
    "print pt"
   ]
  },
  {
   "cell_type": "markdown",
   "metadata": {},
   "source": [
    "The number of messages in the collection"
   ]
  },
  {
   "cell_type": "code",
   "execution_count": 6,
   "metadata": {
    "collapsed": false
   },
   "outputs": [
    {
     "data": {
      "text/plain": [
       "41299"
      ]
     },
     "execution_count": 6,
     "metadata": {},
     "output_type": "execute_result"
    }
   ],
   "source": [
    "mbox = db.mbox\n",
    "mbox.count()"
   ]
  },
  {
   "cell_type": "markdown",
   "metadata": {},
   "source": [
    "Display the message as pretty-printed JSON. The use of the custom serializer supplied by PyMongo is necessary in order to handle the date field that is provided as a datetime.datetime tuple."
   ]
  },
  {
   "cell_type": "code",
   "execution_count": 10,
   "metadata": {
    "collapsed": false
   },
   "outputs": [
    {
     "name": "stdout",
     "output_type": "stream",
     "text": [
      "{\n",
      " \"X-cc\": \"\", \n",
      " \"From\": \"customerservice.1556092.33252.0@service.williams-sonoma.com\", \n",
      " \"Subject\": \"Fresh Ideas for Easter Brunch from Williams-Sonoma\", \n",
      " \"To\": [\n",
      "  \"matt.motley@enron.com\"\n",
      " ], \n",
      " \"Content-Transfer-Encoding\": \"7bit\", \n",
      " \"X-bcc\": \"\", \n",
      " \"parts\": [\n",
      "  {\n",
      "   \"content\": \"Williams-Sonoma  \\n\\t\\nAsparagus Plates \\t  Fresh for Easter \\n\\nAs delicious to behold as it is to savor, asparagus heralds spring in the most delightful way. Celebrate Easter with our charming asparagus plates, along with a simple recipe for preparing the tender, elegant spears (roast them!). Happy Easter!\\n\\nWilliams-Sonoma\\n\\n\\n   Asparagus Plates \\n Recipe: Roasted Asparagus with Lemon \\n Easter Menus \\t\\nRecipe: Roasted Asparagus with Lemon \\n\\n \\t\\n\\n\\n\\nIf you prefer not to receive promotional email messages from us, please reply to this message with \\\"remove\\\" on the subject line. Your name will be removed from our email list.\\n\\nPrivacy Guarantee: Williams-Sonoma supports and adheres to the guidelines and practices adopted by the Direct Marketing Association's Privacy Promise to American Consumers.\\n\\n? 2002 Williams-Sonoma All rights reserved.\\t   \\n\", \n",
      "   \"contentType\": \"text/plain\"\n",
      "  }\n",
      " ], \n",
      " \"X-Folder\": \"\\\\ExMerge - Motley, Matt\\\\Inbox\", \n",
      " \"X-Origin\": \"MOTLEY-M\", \n",
      " \"X-FileName\": \"matt motley 6-26-02.pst\", \n",
      " \"Message-ID\": \"<13036772.1075841336417.JavaMail.evans@thyme>\", \n",
      " \"X-From\": \"Williams-Sonoma\\n <customerservice.1556092.33252.0@service.williams-sonoma.com>\", \n",
      " \"Date\": {\n",
      "  \"$date\": 1016634980000\n",
      " }, \n",
      " \"X-To\": \"Motley, Matt </O=ENRON/OU=NA/CN=RECIPIENTS/CN=MMOTLEY>\", \n",
      " \"_id\": {\n",
      "  \"$oid\": \"560ef1e3f23997f642c92556\"\n",
      " }, \n",
      " \"Content-Type\": \"text/plain; charset=ANSI_X3.4-1968\", \n",
      " \"Mime-Version\": \"1.0\"\n",
      "}\n"
     ]
    }
   ],
   "source": [
    "print(json.dumps(mbox.find_one(), indent=1, default=json_util.default))"
   ]
  },
  {
   "cell_type": "markdown",
   "metadata": {},
   "source": [
    "Messages from a query by date range:"
   ]
  },
  {
   "cell_type": "code",
   "execution_count": 9,
   "metadata": {
    "collapsed": false
   },
   "outputs": [
    {
     "name": "stdout",
     "output_type": "stream",
     "text": [
      "[\n",
      " {\n",
      "  \"X-cc\": \"\", \n",
      "  \"From\": \"spisano@sprintmail.com\", \n",
      "  \"Subject\": \"House repair bid\", \n",
      "  \"To\": [\n",
      "   \"kevin.ruscitti@enron.com\"\n",
      "  ], \n",
      "  \"Content-Transfer-Encoding\": \"7bit\", \n",
      "  \"X-bcc\": \"\", \n",
      "  \"parts\": [\n",
      "   {\n",
      "    \"content\": \"\\n \\n - RUSCITTI BID.wps \\n\\n\", \n",
      "    \"contentType\": \"text/plain\"\n",
      "   }\n",
      "  ], \n",
      "  \"X-Folder\": \"\\\\Ruscitti, Kevin\\\\Ruscitti, Kevin\\\\Inbox\", \n",
      "  \"X-Origin\": \"RUSCITTI-K\", \n",
      "  \"X-FileName\": \"Ruscitti, Kevin.pst\", \n",
      "  \"Message-ID\": \"<8472651.1075845282216.JavaMail.evans@thyme>\", \n",
      "  \"X-From\": \"Steven Anthony Pisano  <spisano@sprintmail.com>\", \n",
      "  \"Date\": {\n",
      "   \"$date\": 986163540000\n",
      "  }, \n",
      "  \"X-To\": \"KEVIN.RUSCITTI@ENRON.COM\", \n",
      "  \"_id\": {\n",
      "   \"$oid\": \"560ef1ebf23997f642c937cb\"\n",
      "  }, \n",
      "  \"Content-Type\": \"text/plain; charset=us-ascii\", \n",
      "  \"Mime-Version\": \"1.0\"\n",
      " }\n",
      "]\n"
     ]
    }
   ],
   "source": [
    "start_date = dt(2001, 4, 1)\n",
    "end_date = dt(2001, 4, 2)\n",
    "msgs = [msg for msg in mbox.find({\"Date\": {\n",
    "    \"$lt\": end_date,\n",
    "    \"$gt\": start_date\n",
    "}\n",
    "}).sort(\"date\")]\n",
    "print(json.dumps(msgs, indent=1, default=json_util.default))"
   ]
  },
  {
   "cell_type": "markdown",
   "metadata": {},
   "source": [
    "Analyze senders and receivers"
   ]
  },
  {
   "cell_type": "code",
   "execution_count": 12,
   "metadata": {
    "collapsed": false
   },
   "outputs": [
    {
     "name": "stdout",
     "output_type": "stream",
     "text": [
      "Num Senders: 7665\n",
      "Num Receivers: 22162\n",
      "Num CC Receivers: 6561\n",
      "Num BCC Receivers: 6561\n",
      "Num senders in common with receivers: 3220\n",
      "Num senders who didn't receive: 4445\n",
      "Num receivers who didn't send: 18942\n",
      "Num senders in common with *all* receivers: 3440\n",
      "\n",
      "Enron employees:\n",
      "Num Senders: 3137\n",
      "Num Receivers: 16653\n",
      "Num CC Receivers: 4890\n",
      "Num BCC Receivers: 4890\n"
     ]
    }
   ],
   "source": [
    "senders = [i for i in mbox.distinct(\"From\")]\n",
    "receivers = [i for i in mbox.distinct(\"To\")]\n",
    "cc_receivers = [i for i in mbox.distinct(\"Cc\")]\n",
    "bcc_receivers = [i for i in mbox.distinct(\"Bcc\")]\n",
    "print \"Num Senders:\", len(senders)\n",
    "print \"Num Receivers:\", len(receivers)\n",
    "print \"Num CC Receivers:\", len(cc_receivers)\n",
    "print \"Num BCC Receivers:\", len(bcc_receivers)\n",
    "\n",
    "senders = set(senders)\n",
    "receivers = set(receivers)\n",
    "cc_receivers = set(cc_receivers)\n",
    "bcc_receivers = set(bcc_receivers)\n",
    "# Find the number of senders who were also direct receivers\n",
    "senders_intersect_receivers = senders.intersection(receivers)\n",
    "# Find the senders that didn't receive any messages\n",
    "senders_diff_receivers = senders.difference(receivers)\n",
    "# Find the receivers that didn't send any messages\n",
    "receivers_diff_senders = receivers.difference(senders)\n",
    "# Find the senders who were any kind of receiver by first computing the union of all types of receivers\n",
    "all_receivers = receivers.union(cc_receivers, bcc_receivers)\n",
    "senders_all_receivers = senders.intersection(all_receivers)\n",
    "\n",
    "print \"Num senders in common with receivers:\", len(senders_intersect_receivers)\n",
    "print \"Num senders who didn't receive:\", len(senders_diff_receivers)\n",
    "print \"Num receivers who didn't send:\", len(receivers_diff_senders)\n",
    "print \"Num senders in common with *all* receivers:\", len(senders_all_receivers)\n",
    "\n",
    "# Finding senders and receivers of messages who were Enron employees\n",
    "senders = [i for i in mbox.distinct(\"From\") if i.lower().find(\"@enron.com\") > -1]\n",
    "receivers = [i for i in mbox.distinct(\"To\") if i.lower().find(\"@enron.com\") > -1]\n",
    "cc_receivers = [i for i in mbox.distinct(\"Cc\") if i.lower().find(\"@enron.com\") > -1]\n",
    "bcc_receivers = [i for i in mbox.distinct(\"Bcc\") if i.lower().find(\"@enron.com\") > -1]\n",
    "\n",
    "print\n",
    "print \"Enron employees:\"\n",
    "print \"Num Senders:\", len(senders)\n",
    "print \"Num Receivers:\", len(receivers)\n",
    "print \"Num CC Receivers:\", len(cc_receivers)\n",
    "print \"Num BCC Receivers:\", len(bcc_receivers)"
   ]
  },
  {
   "cell_type": "markdown",
   "metadata": {},
   "source": [
    "Counting sent/received messages for particular email addresses"
   ]
  },
  {
   "cell_type": "code",
   "execution_count": 13,
   "metadata": {
    "collapsed": false
   },
   "outputs": [
    {
     "name": "stdout",
     "output_type": "stream",
     "text": [
      "Number of message sent to: 1326\n",
      "Number of messages sent from: 7\n"
     ]
    }
   ],
   "source": [
    "aliases = [\"kenneth.lay@enron.com\", \"ken_lay@enron.com\", \"ken.lay@enron.com\",\n",
    "           \"kenneth_lay@enron.net\", \"klay@enron.com\"]  # More possibilities?\n",
    "to_msgs = [msg for msg in mbox.find({\"To\": {\"$in\": aliases}})]\n",
    "from_msgs = [msg for msg in mbox.find({\"From\": {\"$in\": aliases}})]\n",
    "print \"Number of message sent to:\", len(to_msgs)\n",
    "print \"Number of messages sent from:\", len(from_msgs)"
   ]
  },
  {
   "cell_type": "markdown",
   "metadata": {},
   "source": [
    "Get recipients of email sent by Kenneth Lay"
   ]
  },
  {
   "cell_type": "code",
   "execution_count": 16,
   "metadata": {
    "collapsed": false
   },
   "outputs": [
    {
     "name": "stdout",
     "output_type": "stream",
     "text": [
      "Num total recipients on all messages: 1043\n",
      "First 25 recipients\n"
     ]
    },
    {
     "data": {
      "text/plain": [
       "[u'mark.koenig@enron.com',\n",
       " u'j..kean@enron.com',\n",
       " u'pr<.palmer@enron.com>',\n",
       " u'james.derrick@enron.com',\n",
       " u'elizabeth.tilney@enron.com',\n",
       " u'greg.whalley@enron.com',\n",
       " u'jeffrey.mcmahon@enron.com',\n",
       " u'raymond.bowen@enron.com',\n",
       " u'tim.despain@enron.com',\n",
       " u'e..haedicke@enron.com',\n",
       " u'erica.adams@enron.com',\n",
       " u'john.addison@enron.com',\n",
       " u'matthew.almy@enron.com',\n",
       " u'hector.alviar@enron.com',\n",
       " u'chuck.ames@enron.com',\n",
       " u'matt.anderson@enron.com',\n",
       " u'james.bakondy@enron.com',\n",
       " u'hicham.benjelloun@enron.com',\n",
       " u'shelia.benke@enron.com',\n",
       " u'christina.benkert@enron.com',\n",
       " u'peter.bennett@enron.com',\n",
       " u'aaron.berutti@enron.com',\n",
       " u'laura.bosek@enron.com',\n",
       " u'edward.brady@enron.com',\n",
       " u'erika.breen@enron.com']"
      ]
     },
     "execution_count": 16,
     "metadata": {},
     "output_type": "execute_result"
    }
   ],
   "source": [
    "FROM = \"kenneth.lay@enron.com\"\n",
    "# Get the recipient lists for each message\n",
    "recipients_per_msg = list(db.mbox.aggregate([\n",
    "    {\"$match\": {\"From\": re.compile(r\".*{0}.*\".format(FROM), re.IGNORECASE)}},\n",
    "    {\"$project\": {\"From\": 1, \"To\": 1}},\n",
    "    {\"$group\": {\"_id\": \"$From\", \"recipients\": {\"$addToSet\": \"$To\"}}}\n",
    "]))\n",
    "recipients_per_message = recipients_per_msg[0]['recipients']\n",
    "all_recipients = [recipient for message in recipients_per_message for recipient in message]\n",
    "print \"Num total recipients on all messages:\", len(all_recipients)\n",
    "print 'First 25 recipients'\n",
    "all_recipients[:25]"
   ]
  },
  {
   "cell_type": "markdown",
   "metadata": {},
   "source": [
    "Calculate the number of recipients per sent message:"
   ]
  },
  {
   "cell_type": "code",
   "execution_count": 18,
   "metadata": {
    "collapsed": false
   },
   "outputs": [
    {
     "data": {
      "text/plain": [
       "[1, 1, 2, 8, 85, 946]"
      ]
     },
     "execution_count": 18,
     "metadata": {},
     "output_type": "execute_result"
    }
   ],
   "source": [
    "recipients_per_message_totals = sorted([len(recipients)\n",
    "                                        for recipients in recipients_per_message])\n",
    "recipients_per_message_totals"
   ]
  },
  {
   "cell_type": "markdown",
   "metadata": {},
   "source": [
    "Get number of unique recipients:"
   ]
  },
  {
   "cell_type": "code",
   "execution_count": 19,
   "metadata": {
    "collapsed": false
   },
   "outputs": [
    {
     "name": "stdout",
     "output_type": "stream",
     "text": [
      "Num unique recipients 916\n"
     ]
    }
   ],
   "source": [
    "unique_rec = list(db.mbox.aggregate([\n",
    "    {\"$match\": {\"From\": re.compile(r\".*{0}.*\".format(FROM), re.IGNORECASE)}},\n",
    "    {\"$project\": {\"From\": 1, \"To\": 1}},\n",
    "    {\"$unwind\": \"$To\"},\n",
    "    {\"$group\": {\"_id\": \"From\", \"recipients\": {\"$addToSet\": \"$To\"}}}\n",
    "]))\n",
    "unique_recipients = unique_rec[0]['recipients']\n",
    "print \"Num unique recipients\", len(unique_recipients)"
   ]
  }
 ],
 "metadata": {
  "kernelspec": {
   "display_name": "Python 2",
   "language": "python",
   "name": "python2"
  },
  "language_info": {
   "codemirror_mode": {
    "name": "ipython",
    "version": 2
   },
   "file_extension": ".py",
   "mimetype": "text/x-python",
   "name": "python",
   "nbconvert_exporter": "python",
   "pygments_lexer": "ipython2",
   "version": "2.7.10"
  }
 },
 "nbformat": 4,
 "nbformat_minor": 0
}
