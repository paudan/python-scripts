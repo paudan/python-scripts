{
 "cells": [
  {
   "cell_type": "code",
   "execution_count": 1,
   "metadata": {},
   "outputs": [
    {
     "data": {
      "text/html": [
       "<p><img src=\"https://lh5.googleusercontent.com/-OojyL2VZrjg/AAAAAAAAAAI/AAAAAAAAGwY/RuEiI6hagyI/photo.jpg?sz=50\" /> 108442503368488643007: O'Reilly</p><p><img src=\"https://lh4.googleusercontent.com/-J8nmMwIhpiA/AAAAAAAAAAI/AAAAAAADdg4/68r2hyFUgzI/photo.jpg?sz=50\" /> 107033731246200681024: Tim O'Reilly</p><p><img src=\"https://lh6.googleusercontent.com/-E8x7SZwxVEI/AAAAAAAAAAI/AAAAAAAANr0/D2ImQAY33kQ/photo.jpg?sz=50\" /> 109043804130056015419: Michael O'Reilly</p><p><img src=\"https://lh5.googleusercontent.com/-0sVnDVsAm28/AAAAAAAAAAI/AAAAAAAAAnM/sxrSzsaBNyM/photo.jpg?sz=50\" /> 105451978536505503907: O'Reilly Radar</p><p><img src=\"https://lh3.googleusercontent.com/--3-mv_vQ458/AAAAAAAAAAI/AAAAAAAAB3s/xrbivP7SKtE/photo.jpg?sz=50\" /> 104914435265651185062: Ana Silva O'Reilly</p><p><img src=\"https://lh4.googleusercontent.com/-0BjgRLxwes4/AAAAAAAAAAI/AAAAAAAAKJc/ElQHxoxrDJc/photo.jpg?sz=50\" /> 108253866696400445284: Sean O'Reilly</p><p><img src=\"https://lh6.googleusercontent.com/-L69Cughy6Tw/AAAAAAAAAAI/AAAAAAAABFw/AAUlCU-xybQ/photo.jpg?sz=50\" /> 115463715685277288209: Monique O'Reilly</p><p><img src=\"https://lh6.googleusercontent.com/-iM9GHrEU98E/AAAAAAAAAAI/AAAAAAAABJ8/FEvQTgzQXLo/photo.jpg?sz=50\" /> 112541435703111604229: Alan O'Reilly</p><p><img src=\"https://lh5.googleusercontent.com/-QpG3EI6bOaY/AAAAAAAAAAI/AAAAAAAAsfY/9pbn2MVO3Oc/photo.jpg?sz=50\" /> 116929187467240781516: Shane O'Reilly</p><p><img src=\"https://lh3.googleusercontent.com/-YoblneQEmko/AAAAAAAAAAI/AAAAAAAA-Cs/2ZAh6waqCls/photo.jpg?sz=50\" /> 114860508476113735073: Gary O'Reilly</p><p><img src=\"https://lh3.googleusercontent.com/-ElESAnRs3JE/AAAAAAAAAAI/AAAAAAAAAeA/3_1vmjVYu2E/photo.jpg?sz=50\" /> 106822222887538315672: Kimberly O'Reilly</p><p><img src=\"https://lh3.googleusercontent.com/-rNVCH3wTQ-0/AAAAAAAAAAI/AAAAAAAABfs/4wdKF0jADn0/photo.jpg?sz=50\" /> 100886455929369392603: O'Reilly - Video Training</p><p><img src=\"https://lh6.googleusercontent.com/-_ZapIYbj0zc/AAAAAAAAAAI/AAAAAAAAAi4/LaXOTtODVUQ/photo.jpg?sz=50\" /> 111265456101858105351: Kellee (Magee) O'Reilly</p><p><img src=\"https://lh6.googleusercontent.com/-iizAaiqr-8U/AAAAAAAAAAI/AAAAAAAA_wM/x6pDUhkq-g0/photo.jpg?sz=50\" /> 103349380055842606923: Patrick O'Reilly</p><p><img src=\"https://lh4.googleusercontent.com/-c9dJDQcTdPA/AAAAAAAAAAI/AAAAAAAAAYw/n20jcrbwS2Y/photo.jpg?sz=50\" /> 107218125160383388761: Quinton O'Reilly</p><p><img src=\"https://lh5.googleusercontent.com/-F2OpL58iCCE/AAAAAAAAAAI/AAAAAAAAAcg/SZW8OEXrmtg/photo.jpg?sz=50\" /> 102579184554027106051: Lyn O'Reilly</p><p><img src=\"https://lh6.googleusercontent.com/-HlnPxb4_J5s/AAAAAAAAAAI/AAAAAAAAA3Q/1r64BbRIkzs/photo.jpg?sz=50\" /> 107280843348983602288: Myles O'Reilly</p><p><img src=\"https://lh4.googleusercontent.com/-YyGoxc9Bl84/AAAAAAAAAAI/AAAAAAAAAGk/qmDDuWcUw5Q/photo.jpg?sz=50\" /> 105986776462016101476: Rob O'Reilly</p><p><img src=\"https://lh4.googleusercontent.com/-rLpq16gzXPs/AAAAAAAAAAI/AAAAAAAABGI/K3VvlKhJlzs/photo.jpg?sz=50\" /> 112417181056681573155: O'Reilly Auto Parts</p><p><img src=\"https://lh3.googleusercontent.com/--6x9mhiH0dg/AAAAAAAAAAI/AAAAAAAAAJA/OJ_xFplGg68/photo.jpg?sz=50\" /> 112944539633806341046: Kate O'Reilly</p><p><img src=\"https://lh4.googleusercontent.com/-l-JAKEYg51o/AAAAAAAAAAI/AAAAAAAAAEM/5mr776Ag2Cs/photo.jpg?sz=50\" /> 107469511246303529961: Paul O'Reilly</p><p><img src=\"https://lh4.googleusercontent.com/-kEwMwQHxSdE/AAAAAAAAAAI/AAAAAAAAAG4/nZP8WPt-yUc/photo.jpg?sz=50\" /> 103306392007680229729: Heather O'Reilly</p><p><img src=\"https://lh6.googleusercontent.com/-gFbrEUGSjJM/AAAAAAAAAAI/AAAAAAAAACY/q2qL4KqTd8E/photo.jpg?sz=50\" /> 112300906456564494609: Bill O'Reilly</p><p><img src=\"https://lh5.googleusercontent.com/-uCKw8CqUcGs/AAAAAAAAAAI/AAAAAAAAACI/zG7ticCOGRM/photo.jpg?sz=50\" /> 108493709216119133475: O'Reilly Webcasts</p><p><img src=\"https://lh3.googleusercontent.com/-8MeFjxL-zfs/AAAAAAAAAAI/AAAAAAAAAF0/x2dkEAn6qxE/photo.jpg?sz=50\" /> 114722221595593597247: Google Apps Script - O'Reilly Books</p>"
      ]
     },
     "output_type": "execute_result",
     "metadata": {}
    }
   ],
   "source": [
    "import httplib2\n",
    "import apiclient.discovery # pip install google-api-python-client\n",
    "from IPython.core.display import HTML\n",
    "from ConfigParser import ConfigParser\n",
    "\n",
    "config = ConfigParser()\n",
    "config.read('config.ini')\n",
    "CONSUMER_KEY = config.get('config', 'client_id')\n",
    "API_KEY = config.get('config', 'api_key')\n",
    "\n",
    "Q = \"O'Reilly\"\n",
    "service = apiclient.discovery.build('plus', 'v1', http=httplib2.Http(), developerKey=API_KEY)\n",
    "people_feed = service.people().search(query=Q).execute()\n",
    "\n",
    "html = []\n",
    "for p in people_feed['items']:\n",
    "    html += ['<p><img src=\"%s\" /> %s: %s</p>' % (p['image']['url'], p['id'], p['displayName'])]\n",
    "HTML(''.join(html))"
   ]
  },
  {
   "cell_type": "code",
   "execution_count": null,
   "metadata": {},
   "outputs": [],
   "source": [
    ""
   ]
  }
 ],
 "metadata": {
  "kernelspec": {
   "display_name": "Python 2",
   "language": "python",
   "name": "python2"
  },
  "language_info": {
   "codemirror_mode": {
    "name": "ipython",
    "version": 2.0
   },
   "file_extension": ".py",
   "mimetype": "text/x-python",
   "name": "python",
   "nbconvert_exporter": "python",
   "pygments_lexer": "ipython2",
   "version": "2.7.10"
  }
 },
 "nbformat": 4,
 "nbformat_minor": 0
}