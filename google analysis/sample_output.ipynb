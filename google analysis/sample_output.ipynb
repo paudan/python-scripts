{
 "cells": [
  {
   "cell_type": "code",
   "execution_count": null,
   "metadata": {},
   "outputs": [],
   "source": [
    "from google_search import perform_query\n",
    "perform_query(\"Danenas\")"
   ]
  },
  {
   "cell_type": "code",
   "execution_count": null,
   "metadata": {},
   "outputs": [],
   "source": [
    "from google_search import get_user_activity, cleanHtml\n",
    "activity_feed = get_user_activity('107033731246200681024')  # Tim O'Reilly\n",
    "# get_user_activity('me')\n",
    "cleanHtml(activity_feed['items'][0]['object']['content']).encode(\"utf-8\")\n",
    "parse_activities('107033731246200681024', 200)"
   ]
  },
  {
   "cell_type": "code",
   "execution_count": null,
   "metadata": {},
   "outputs": [],
   "source": [
    "from google_search import calculate_ranks\n",
    "calculate_ranks('107033731246200681024.json')"
   ]
  },
  {
   "cell_type": "code",
   "execution_count": null,
   "metadata": {},
   "outputs": [],
   "source": [
    "from google_search import tfidf_query\n",
    "tfidf_query('107033731246200681024.json', ['development'])"
   ]
  },
  {
   "cell_type": "code",
   "execution_count": null,
   "metadata": {},
   "outputs": [],
   "source": [
    "from google_search import cosine_similarity, linkage_matrix\n",
    "data = '107033731246200681024.json'\n",
    "cosine_similarity(data)\n",
    "linkage_matrix(data)"
   ]
  },
  {
   "cell_type": "code",
   "execution_count": null,
   "metadata": {},
   "outputs": [],
   "source": [
    "import nltk\n",
    "sentence = \"Mr. Green killed Colonel Mustard in the study with the candlestick. Mr. Green is not a very nice fellow.\"\n",
    "print nltk.ngrams(sentence.split(), 2)\n",
    "txt = nltk.Text(sentence.split())\n",
    "txt.collocations()"
   ]
  },
  {
   "cell_type": "code",
   "execution_count": null,
   "metadata": {},
   "outputs": [],
   "source": [
    "from google_search import calculate_collocations\n",
    "calculate_collocations('107033731246200681024.json')"
   ]
  },
  {
   "cell_type": "code",
   "execution_count": 1,
   "metadata": {},
   "outputs": [
    {
     "name": "stdout",
     "output_type": "stream",
     "text": [
      "[nltk_data] Downloading package stopwords to\n",
      "[nltk_data]     C:\\Users\\Paulius\\AppData\\Roaming\\nltk_data...\n",
      "[nltk_data]   Package stopwords is already up-to-date!\n",
      "133367\n",
      "Displaying 16 of 16 matches:\n",
      "cessful participatory projects, from open source software to wikis to social m\n",
      "ere isn't one (except that it's only open to US students - sorry. If anyone ha\n",
      "new contract that conformed with the open data mandate. If it were consistent \n",
      "If it were consistent with the Obama open data guidance, that RFP would requir\n",
      "ut of step with the administration’s open data policy. The founder of Hipcamp,\n",
      "is is a really important piece about open data and platforms.﻿ Work on sh-t th\n",
      ".﻿ An excellent demonstration of why Open Access lowers the barriers to knowle\n",
      "r is to fix the errors, not to blame open data for showing them, and give publ\n",
      "nd solution provider. The government open data movement is a big step in this \n",
      " of Education on the design of their open data APIs, now is your chance. Detai\n",
      "e people figuring out how to use it. Open data platforms are a good way to get\n",
      "e it!﻿ My thoughts on free software, open source, and open data, in response t\n",
      "s on free software, open source, and open data, in response to Eric Raymond's \n",
      "etary DRM'd ebook format rather than open standards for the Kindle, I have alw\n",
      "at Park Day School in Oakland. Doors open at 10 a.m., close at 5 p.m.﻿ StreetC\n",
      "ia was Plan B.\" This talk - given to open government advocates - is particular\n",
      "None\n",
      "Silicon Valley; private sector; Maker Faire; Jennifer Pahlka; interest\n",
      "rates; open data; Bay Mini; Common Core; East Bay; idle resources;\n",
      "Mini Maker; White House; Cabo Pulmo; Liza Daly; Clay Shirky; Ezra\n",
      "Klein; Jim Stogdill; Presidential Innovation; Tesla Model; Mikey\n",
      "Dickerson\n",
      "None\n",
      "14\n",
      "3\n",
      "6\n",
      "0\n",
      "22704\n",
      "6791\n"
     ]
    }
   ],
   "source": [
    "import nltk\n",
    "import json\n",
    "\n",
    "# Forcing to use unicode stdout\n",
    "import sys\n",
    "import codecs\n",
    "sys.stdout = codecs.getwriter('utf8')(sys.stdout)\n",
    "\n",
    "# Download ancillary nltk packages if not already installed\n",
    "nltk.download('stopwords')\n",
    "\n",
    "DATA = '107033731246200681024.json'\n",
    "data = json.loads(open(DATA).read())\n",
    "\n",
    "all_content = \" \".join([a['object']['content'] for a in data])\n",
    "\n",
    "# Approximate bytes of text\n",
    "print len(all_content)\n",
    "\n",
    "tokens = all_content.split()\n",
    "text = nltk.Text(tokens)\n",
    "\n",
    "# Examples of the appearance of the word \"open\"\n",
    "print text.concordance('open')\n",
    "\n",
    "# Frequent collocations in the text (usually meaningful phrases)\n",
    "print text.collocations()\n",
    "\n",
    "# Frequency analysis for words of interest\n",
    "fdist = text.vocab()\n",
    "print fdist[\"open\"]\n",
    "print fdist[\"source\"]\n",
    "print fdist[\"web\"]\n",
    "print fdist[\"2.0\"]\n",
    "\n",
    "# Number of words in the text\n",
    "print len(tokens)\n",
    "\n",
    "# Number of unique words in the text\n",
    "\n",
    "print len(fdist.keys())"
   ]
  },
  {
   "cell_type": "code",
   "execution_count": null,
   "metadata": {},
   "outputs": [],
   "source": [
    ""
   ]
  }
 ],
 "metadata": {
  "kernelspec": {
   "display_name": "Python 2",
   "language": "python",
   "name": "python2"
  },
  "language_info": {
   "codemirror_mode": {
    "name": "ipython",
    "version": 2.0
   },
   "file_extension": ".py",
   "mimetype": "text/x-python",
   "name": "python",
   "nbconvert_exporter": "python",
   "pygments_lexer": "ipython2",
   "version": "2.7.10"
  }
 },
 "nbformat": 4,
 "nbformat_minor": 0
}