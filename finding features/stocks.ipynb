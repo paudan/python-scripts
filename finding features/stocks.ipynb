{
 "cells": [
  {
   "cell_type": "code",
   "execution_count": 2,
   "metadata": {
    "collapsed": true
   },
   "outputs": [],
   "source": [
    "# Example from Programming Collective Intelligence, Chapter 10"
   ]
  },
  {
   "cell_type": "markdown",
   "metadata": {},
   "source": [
    "### Yahoo stocks analysis ###"
   ]
  },
  {
   "cell_type": "code",
   "execution_count": 3,
   "metadata": {
    "collapsed": true
   },
   "outputs": [],
   "source": [
    "import nnmf\n",
    "import urllib2\n",
    "from numpy import *\n",
    "\n",
    "tickers = ['YHOO', 'AVP', 'BIIB', 'BP', 'CL', 'CVX',\n",
    "           'MSFT', 'EXPE', 'ORCL', 'PG', 'XOM', 'AMGN']\n",
    "shortest = 300\n",
    "prices = {}\n",
    "dates = None"
   ]
  },
  {
   "cell_type": "markdown",
   "metadata": {},
   "source": [
    "Read data and perform matrix factorization:"
   ]
  },
  {
   "cell_type": "code",
   "execution_count": 4,
   "metadata": {
    "collapsed": false
   },
   "outputs": [
    {
     "name": "stdout",
     "output_type": "stream",
     "text": [
      "YHOO\n",
      "AVP\n",
      "BIIB\n",
      "BP\n",
      "CL\n",
      "CVX\n",
      "MSFT\n",
      "EXPE\n",
      "ORCL\n",
      "PG\n",
      "XOM\n",
      "AMGN\n",
      "3.09090862659e+18\n",
      "1.28449428498e+17\n",
      "4.61389672212e+16\n",
      "3.69136295069e+16\n",
      "3.37461207739e+16\n"
     ]
    }
   ],
   "source": [
    "for t in tickers:\n",
    "    print t\n",
    "    # Open the URL\n",
    "    rows = urllib2.urlopen('http://ichart.finance.yahoo.com/table.csv?s=%s&d=11&e=26&f=2006&g=d&a=3&b=12&c=1996' % t + \\\n",
    "                           '&ignore=.csv').readlines()\n",
    "    # Extract the volume field from every line\n",
    "    prices[t] = [float(r.split(',')[5]) for r in rows[1:] if r.strip() != '']\n",
    "    if len(prices[t]) < shortest: shortest = len(prices[t])\n",
    "\n",
    "    if not dates:\n",
    "        dates = [r.split(',')[0] for r in rows[1:] if r.strip() != '']\n",
    "\n",
    "l1 = [[prices[tickers[i]][j]\n",
    "       for i in range(len(tickers))]\n",
    "      for j in range(shortest)]\n",
    "\n",
    "w, h = nnmf.factorize(matrix(l1), pc=5)"
   ]
  },
  {
   "cell_type": "code",
   "execution_count": 5,
   "metadata": {
    "collapsed": false
   },
   "outputs": [
    {
     "name": "stdout",
     "output_type": "stream",
     "text": [
      "[[  5.87018230e+06   6.36744345e+05   1.52376761e+06   1.54639284e+06\n",
      "    1.38675211e+06   3.64946234e+06   1.14050766e+07   6.59894696e+05\n",
      "    4.97489660e+07   3.25571155e+06   8.98056995e+06   3.73943226e+06]\n",
      " [  3.03202012e+02   4.25175640e+05   1.29489543e+04   1.91479587e+04\n",
      "    1.12899720e+05   5.79694151e+04   2.78345504e+07   4.17489334e+03\n",
      "    1.77730955e+06   1.15164137e+05   1.26906105e+05   1.95280301e+04]\n",
      " [  3.23762785e+07   6.81427632e+05   7.48743944e+05   1.02938142e+06\n",
      "    1.11103966e+06   2.34222078e+06   1.05860437e+07   1.39586860e+05\n",
      "    4.32305185e+06   1.86223051e+06   5.41211541e+06   2.77169189e+06]\n",
      " [  4.56436937e+06   1.32351092e+06   1.61606733e+06   1.80429123e+06\n",
      "    2.22779095e+06   4.62910940e+06   3.51197075e+07   5.00740667e+05\n",
      "    6.31917072e+06   4.23351218e+06   1.01510402e+07   4.72498828e+06]\n",
      " [  9.28475148e+05   1.18133593e+06   1.61200216e+06   1.61711416e+06\n",
      "    2.21626136e+06   5.19904790e+06   4.13071991e+07   8.50425555e+05\n",
      "    1.24375883e+07   5.07967376e+06   1.08588591e+07   4.27957817e+06]]\n",
      "[[ 0.14981749  0.40671139  0.22090578  0.04935408  0.49229218]\n",
      " [ 0.24184046  0.24930174  0.35187394  0.36660645  0.28502917]\n",
      " [ 0.55066539  0.04648887  0.71810321  0.15490904  0.30273164]\n",
      " ..., \n",
      " [ 0.67333297  0.03839665  0.75463883  0.33933833  0.81079743]\n",
      " [ 0.91158943  0.23779687  1.67783156  0.87679609  0.03663277]\n",
      " [ 0.21648391  0.02512419  0.99136286  0.8599147   0.82328627]]\n"
     ]
    }
   ],
   "source": [
    "print h\n",
    "print w"
   ]
  },
  {
   "cell_type": "markdown",
   "metadata": {},
   "source": [
    "Extract top 10 stocks for each feature (volume contributions of each feature to each stock, as well as the dates most strongly associated with those features):"
   ]
  },
  {
   "cell_type": "code",
   "execution_count": 6,
   "metadata": {
    "collapsed": false
   },
   "outputs": [
    {
     "name": "stdout",
     "output_type": "stream",
     "text": [
      "Feature 0\n",
      "(49748965.987069026, 'ORCL')\n",
      "(11405076.5800968, 'MSFT')\n",
      "(8980569.9537781663, 'XOM')\n",
      "(5870182.3017073134, 'YHOO')\n",
      "(3739432.261421578, 'AMGN')\n",
      "(3649462.3436591015, 'CVX')\n",
      "(3255711.5540102059, 'PG')\n",
      "(1546392.8403563192, 'BP')\n",
      "(1523767.6134920272, 'BIIB')\n",
      "(1386752.1073220181, 'CL')\n",
      "(659894.69636210147, 'EXPE')\n",
      "(636744.34489510383, 'AVP')\n",
      "\n",
      "[(3.9683951286164234, '2005-12-16'), (3.8963168117738314, '2006-09-20'), (2.6821056116306994, '2006-03-21')]\n",
      "\n",
      "Feature 1\n",
      "(27834550.412227415, 'MSFT')\n",
      "(1777309.5512959384, 'ORCL')\n",
      "(425175.64044171182, 'AVP')\n",
      "(126906.10513709947, 'XOM')\n",
      "(115164.13726523756, 'PG')\n",
      "(112899.72025447352, 'CL')\n",
      "(57969.415116767348, 'CVX')\n",
      "(19528.030117175047, 'AMGN')\n",
      "(19147.958661356941, 'BP')\n",
      "(12948.954332253656, 'BIIB')\n",
      "(4174.893339694604, 'EXPE')\n",
      "(303.2020124044916, 'YHOO')\n",
      "\n",
      "[(17.780056602386207, '2006-04-28'), (3.4582513834600821, '2006-05-04'), (2.9607724253166539, '2006-07-21')]\n",
      "\n",
      "Feature 2\n",
      "(32376278.51927872, 'YHOO')\n",
      "(10586043.682543918, 'MSFT')\n",
      "(5412115.4125550147, 'XOM')\n",
      "(4323051.8519949699, 'ORCL')\n",
      "(2771691.8876971826, 'AMGN')\n",
      "(2342220.7810803396, 'CVX')\n",
      "(1862230.5145432712, 'PG')\n",
      "(1111039.6649098229, 'CL')\n",
      "(1029381.4164695804, 'BP')\n",
      "(748743.94362574467, 'BIIB')\n",
      "(681427.63233323931, 'AVP')\n",
      "(139586.85999948662, 'EXPE')\n",
      "\n",
      "[(6.1127353274582452, '2006-07-19'), (3.5437710015631887, '2006-01-18'), (3.5054292717872491, '2006-09-19')]\n",
      "\n",
      "Feature 3\n",
      "(35119707.498073719, 'MSFT')\n",
      "(10151040.172824673, 'XOM')\n",
      "(6319170.7208782658, 'ORCL')\n",
      "(4724988.2798973331, 'AMGN')\n",
      "(4629109.3954382716, 'CVX')\n",
      "(4564369.3743529785, 'YHOO')\n",
      "(4233512.1777012004, 'PG')\n",
      "(2227790.9458176135, 'CL')\n",
      "(1804291.2258041657, 'BP')\n",
      "(1616067.3309470492, 'BIIB')\n",
      "(1323510.9217795194, 'AVP')\n",
      "(500740.66728962032, 'EXPE')\n",
      "\n",
      "[(3.4156600804026676, '2006-05-01'), (2.0402137447255226, '2006-05-02'), (1.6814044235161454, '2006-06-14')]\n",
      "\n",
      "Feature 4\n",
      "(41307199.064616241, 'MSFT')\n",
      "(12437588.339043902, 'ORCL')\n",
      "(10858859.060409006, 'XOM')\n",
      "(5199047.8979472723, 'CVX')\n",
      "(5079673.7589710215, 'PG')\n",
      "(4279578.173063145, 'AMGN')\n",
      "(2216261.3614856103, 'CL')\n",
      "(1617114.1637511058, 'BP')\n",
      "(1612002.1642259769, 'BIIB')\n",
      "(1181335.9347670272, 'AVP')\n",
      "(928475.14804115728, 'YHOO')\n",
      "(850425.5551390755, 'EXPE')\n",
      "\n",
      "[(2.3106979109305481, '2006-05-03'), (1.8779281223518269, '2006-06-15'), (1.8426038116708956, '2006-04-28')]\n",
      "\n"
     ]
    }
   ],
   "source": [
    "for i in range(shape(h)[0]):\n",
    "    print \"Feature %d\" % i\n",
    "    # Get the top stocks for this feature\n",
    "    ol = [(h[i, j], tickers[j]) for j in range(shape(h)[1])]\n",
    "    ol.sort()\n",
    "    ol.reverse()\n",
    "    for j in range(12):\n",
    "        print ol[j]\n",
    "    print\n",
    "    # Show the top dates for this feature\n",
    "    porder = [(w[d, i], d) for d in range(300)]\n",
    "    porder.sort()\n",
    "    porder.reverse()\n",
    "    print [(p[0], dates[p[1]]) for p in porder[0:3]]\n",
    "    print"
   ]
  }
 ],
 "metadata": {
  "kernelspec": {
   "display_name": "Python 2",
   "language": "python",
   "name": "python2"
  },
  "language_info": {
   "codemirror_mode": {
    "name": "ipython",
    "version": 2
   },
   "file_extension": ".py",
   "mimetype": "text/x-python",
   "name": "python",
   "nbconvert_exporter": "python",
   "pygments_lexer": "ipython2",
   "version": "2.7.10"
  }
 },
 "nbformat": 4,
 "nbformat_minor": 0
}
