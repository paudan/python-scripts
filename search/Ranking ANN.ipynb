{
 "cells": [
  {
   "cell_type": "code",
   "execution_count": 12,
   "metadata": {
    "collapsed": true
   },
   "outputs": [],
   "source": [
    "# Example from Programming Collective Intelligence, Chapter 4"
   ]
  },
  {
   "cell_type": "markdown",
   "metadata": {},
   "source": [
    "### ANN for search query ranking ###\n",
    "This notebook gives an example of artificial neural network that is trained by giving it the words in the query, the search results presented to the user, and what the user decided to click. Once the network has been trained with many different\n",
    "queries, you can use it to change the ordering of the search results to better reflect what users actually clicked on in the past."
   ]
  },
  {
   "cell_type": "code",
   "execution_count": 13,
   "metadata": {
    "collapsed": true
   },
   "outputs": [],
   "source": [
    "from nn import *"
   ]
  },
  {
   "cell_type": "markdown",
   "metadata": {},
   "source": [
    "Initialize ANN from given database:"
   ]
  },
  {
   "cell_type": "code",
   "execution_count": 14,
   "metadata": {
    "collapsed": false
   },
   "outputs": [],
   "source": [
    "mynet = searchnet('nn.db')\n",
    "# Should be called when ANN database is not initialized\n",
    "# mynet.maketables()  \n",
    "wWorld, wRiver, wBank = 101, 102, 103\n",
    "uWorldBank, uRiver, uEarth = 201, 202, 203"
   ]
  },
  {
   "cell_type": "markdown",
   "metadata": {},
   "source": [
    "Generate a hidden node:"
   ]
  },
  {
   "cell_type": "code",
   "execution_count": 15,
   "metadata": {
    "collapsed": false
   },
   "outputs": [
    {
     "name": "stdout",
     "output_type": "stream",
     "text": [
      "(101, 1, 0.055665)\n",
      "(103, 1, 1.009318)\n",
      "(102, 2, 1.261426)\n",
      "(103, 2, -0.019981)\n",
      "(102, 1, -1.66566)\n",
      "(101, 3, 1.328286)\n",
      "(101, 2, 0.487913)\n",
      "(103, 3, -1.286446)\n",
      "(102, 3, 0.306732)\n",
      "(1, 201, 1.552468)\n",
      "(1, 202, -0.758352)\n",
      "(1, 203, -0.280193)\n",
      "(2, 201, 0.628735)\n",
      "(2, 202, 1.341102)\n",
      "(2, 203, 0.916466)\n",
      "(3, 201, -0.468952)\n",
      "(3, 202, -0.635302)\n",
      "(3, 203, 1.250108)\n"
     ]
    }
   ],
   "source": [
    "mynet.generatehiddennode([wWorld,wBank],[uWorldBank,uRiver,uEarth])\n",
    "for c in mynet.con.execute('select * from wordhidden'): print c\n",
    "for c in mynet.con.execute('select * from hiddenurl'): print c"
   ]
  },
  {
   "cell_type": "markdown",
   "metadata": {},
   "source": [
    "Query untrained network:"
   ]
  },
  {
   "cell_type": "code",
   "execution_count": 16,
   "metadata": {
    "collapsed": false
   },
   "outputs": [
    {
     "data": {
      "text/plain": [
       "[0.9010018270535879, -0.038369997031239, 0.22760890773764073]"
      ]
     },
     "execution_count": 16,
     "metadata": {},
     "output_type": "execute_result"
    }
   ],
   "source": [
    "mynet.getresult([wWorld, wBank], [uWorldBank, uRiver, uEarth])"
   ]
  },
  {
   "cell_type": "markdown",
   "metadata": {},
   "source": [
    "Network output after training"
   ]
  },
  {
   "cell_type": "code",
   "execution_count": 17,
   "metadata": {
    "collapsed": false
   },
   "outputs": [
    {
     "data": {
      "text/plain": [
       "[0.9184441874746795, 0.034469049247540476, -0.2993273961397999]"
      ]
     },
     "execution_count": 17,
     "metadata": {},
     "output_type": "execute_result"
    }
   ],
   "source": [
    "mynet.trainquery([wWorld, wBank], [uWorldBank, uRiver, uEarth], uWorldBank)\n",
    "mynet.getresult([wWorld, wBank], [uWorldBank, uRiver, uEarth])"
   ]
  },
  {
   "cell_type": "markdown",
   "metadata": {},
   "source": [
    "Further training test:"
   ]
  },
  {
   "cell_type": "code",
   "execution_count": 18,
   "metadata": {
    "collapsed": true
   },
   "outputs": [],
   "source": [
    "allurls = [uWorldBank, uRiver, uEarth]\n",
    "for i in range(30):\n",
    "    mynet.trainquery([wWorld, wBank], allurls, uWorldBank)\n",
    "    mynet.trainquery([wRiver, wBank], allurls, uRiver)\n",
    "    mynet.trainquery([wWorld], allurls, uEarth)"
   ]
  },
  {
   "cell_type": "markdown",
   "metadata": {},
   "source": [
    "Finally, query trained ANN:"
   ]
  },
  {
   "cell_type": "code",
   "execution_count": 19,
   "metadata": {
    "collapsed": false
   },
   "outputs": [
    {
     "name": "stdout",
     "output_type": "stream",
     "text": [
      "[0.9289035522920396, 0.12214383210302589, -0.20541038147448543]\n",
      "[-0.004042487284833721, 0.9709979179555895, 0.008040171917766945]\n",
      "[0.9303666695424071, -0.1234474339965096, -0.8875202186384987]\n"
     ]
    }
   ],
   "source": [
    "print mynet.getresult([wWorld, wBank], allurls)\n",
    "print mynet.getresult([wRiver, wBank], allurls)\n",
    "print mynet.getresult([wBank], allurls)"
   ]
  }
 ],
 "metadata": {
  "kernelspec": {
   "display_name": "Python 2",
   "language": "python",
   "name": "python2"
  },
  "language_info": {
   "codemirror_mode": {
    "name": "ipython",
    "version": 2
   },
   "file_extension": ".py",
   "mimetype": "text/x-python",
   "name": "python",
   "nbconvert_exporter": "python",
   "pygments_lexer": "ipython2",
   "version": "2.7.10"
  }
 },
 "nbformat": 4,
 "nbformat_minor": 0
}
