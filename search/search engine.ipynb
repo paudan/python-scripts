{
 "cells": [
  {
   "cell_type": "code",
   "execution_count": 1,
   "metadata": {
    "collapsed": true
   },
   "outputs": [],
   "source": [
    "# Example from Programming Collective Intelligence, Chapter 4"
   ]
  },
  {
   "cell_type": "code",
   "execution_count": 10,
   "metadata": {
    "collapsed": true
   },
   "outputs": [],
   "source": [
    "    from searchengine import *\n",
    "    \n",
    "    # tarfile.open(\"wiki.tar.gz\", 'r:gz').extractall(\".\")\n",
    "    crawlerObj = crawler('searchindex.db')\n",
    "    # crawlerObj.createindextables()\n",
    "    # pages = \\\n",
    "    #    ['file:///'+os.path.dirname(os.path.realpath(__file__)) + '\\\\wiki\\\\Categorical_list_of_programming_languages.html']\n",
    "    # crawlerObj.crawl(pages)\n",
    "    # print([row for row in crawlerObj.con.execute('select rowid from wordlocation where wordid=22')])\n",
    "    # crawlerObj.calculatepagerank()"
   ]
  },
  {
   "cell_type": "markdown",
   "metadata": {},
   "source": [
    "Get matching rows and word IDs:"
   ]
  },
  {
   "cell_type": "code",
   "execution_count": 9,
   "metadata": {
    "collapsed": false
   },
   "outputs": [
    {
     "name": "stdout",
     "output_type": "stream",
     "text": [
      "select w0.urlid,w0.location,w1.location from wordlocation w0,wordlocation w1 where w0.wordid=145 and w0.urlid=w1.urlid and w1.wordid=19\n"
     ]
    },
    {
     "data": {
      "text/plain": [
       "[145, 19]"
      ]
     },
     "execution_count": 9,
     "metadata": {},
     "output_type": "execute_result"
    }
   ],
   "source": [
    "e = searcher('searchindex.db')\n",
    "rows, wordids = e.getmatchrows('functional programming')\n",
    "wordids"
   ]
  },
  {
   "cell_type": "markdown",
   "metadata": {},
   "source": [
    "Frequency score:"
   ]
  },
  {
   "cell_type": "code",
   "execution_count": 4,
   "metadata": {
    "collapsed": false
   },
   "outputs": [
    {
     "name": "stdout",
     "output_type": "stream",
     "text": [
      "1.000000\tfile:///D:\\Darbas\\projects\\text analysis\\wiki\\Functional_programming.html\n",
      "0.262476\tfile:///D:\\Darbas\\projects\\text analysis\\wiki\\Categorical_list_of_programming_languages.html\n",
      "0.062310\tfile:///D:\\Darbas\\projects\\text analysis\\wiki\\Programming_language.html\n",
      "0.043976\tfile:///D:\\Darbas\\projects\\text analysis\\wiki\\Lisp_programming_language.html\n",
      "0.036394\tfile:///D:\\Darbas\\projects\\text analysis\\wiki\\Programming_paradigm.html\n",
      "0.030880\tfile:///D:\\Darbas\\projects\\text analysis\\wiki\\Multi-paradigm_programming_language.html\n",
      "0.027295\tfile:///D:\\Darbas\\projects\\text analysis\\wiki\\Perl.html\n",
      "0.022057\tfile:///D:\\Darbas\\projects\\text analysis\\wiki\\Declarative_programming.html\n",
      "0.020265\tfile:///D:\\Darbas\\projects\\text analysis\\wiki\\Generic_programming.html\n",
      "0.019024\tfile:///D:\\Darbas\\projects\\text analysis\\wiki\\Object-oriented_programming.html\n"
     ]
    }
   ],
   "source": [
    "e.query(rows, wordids, [(1.0, e.frequencyscore(rows))])"
   ]
  },
  {
   "cell_type": "markdown",
   "metadata": {},
   "source": [
    "Location score:"
   ]
  },
  {
   "cell_type": "code",
   "execution_count": 5,
   "metadata": {
    "collapsed": false
   },
   "outputs": [
    {
     "name": "stdout",
     "output_type": "stream",
     "text": [
      "1.000000\tfile:///D:\\Darbas\\projects\\text analysis\\wiki\\Functional_programming.html\n",
      "0.150183\tfile:///D:\\Darbas\\projects\\text analysis\\wiki\\Haskell_programming_language.html\n",
      "0.149635\tfile:///D:\\Darbas\\projects\\text analysis\\wiki\\Opal_programming_language.html\n",
      "0.149091\tfile:///D:\\Darbas\\projects\\text analysis\\wiki\\Miranda_programming_language.html\n",
      "0.149091\tfile:///D:\\Darbas\\projects\\text analysis\\wiki\\Joy_programming_language.html\n",
      "0.149091\tfile:///D:\\Darbas\\projects\\text analysis\\wiki\\Dylan_programming_language.html\n",
      "0.149091\tfile:///D:\\Darbas\\projects\\text analysis\\wiki\\Charity_programming_language.html\n",
      "0.149091\tfile:///D:\\Darbas\\projects\\text analysis\\wiki\\Curry_programming_language.html\n",
      "0.149091\tfile:///D:\\Darbas\\projects\\text analysis\\wiki\\Scheme_programming_language.html\n",
      "0.148551\tfile:///D:\\Darbas\\projects\\text analysis\\wiki\\Logo_programming_language.html\n"
     ]
    }
   ],
   "source": [
    "e.query(rows, wordids, [(1.0, e.locationscore(rows))])"
   ]
  },
  {
   "cell_type": "markdown",
   "metadata": {},
   "source": [
    "ANN score:"
   ]
  },
  {
   "cell_type": "code",
   "execution_count": 6,
   "metadata": {
    "collapsed": false
   },
   "outputs": [
    {
     "name": "stdout",
     "output_type": "stream",
     "text": [
      "0.000000\tfile:///D:\\Darbas\\projects\\text analysis\\wiki\\XSLT.html\n",
      "0.000000\tfile:///D:\\Darbas\\projects\\text analysis\\wiki\\XQuery.html\n",
      "0.000000\tfile:///D:\\Darbas\\projects\\text analysis\\wiki\\Unified_Modeling_Language.html\n",
      "0.000000\tfile:///D:\\Darbas\\projects\\text analysis\\wiki\\SNOBOL.html\n",
      "0.000000\tfile:///D:\\Darbas\\projects\\text analysis\\wiki\\Procedural_programming.html\n",
      "0.000000\tfile:///D:\\Darbas\\projects\\text analysis\\wiki\\Miranda_programming_language.html\n",
      "0.000000\tfile:///D:\\Darbas\\projects\\text analysis\\wiki\\ISWIM.html\n",
      "0.000000\tfile:///D:\\Darbas\\projects\\text analysis\\wiki\\Smalltalk_programming_language.html\n",
      "0.000000\tfile:///D:\\Darbas\\projects\\text analysis\\wiki\\Self_programming_language.html\n",
      "0.000000\tfile:///D:\\Darbas\\projects\\text analysis\\wiki\\MOO_programming_language.html\n"
     ]
    }
   ],
   "source": [
    "e.query(rows, wordids, [(1.0, e.nnscore(rows, wordids))])"
   ]
  },
  {
   "cell_type": "markdown",
   "metadata": {},
   "source": [
    "Mixed score:"
   ]
  },
  {
   "cell_type": "code",
   "execution_count": 7,
   "metadata": {
    "collapsed": false
   },
   "outputs": [
    {
     "name": "stdout",
     "output_type": "stream",
     "text": [
      "2.318585\tfile:///D:\\Darbas\\projects\\text analysis\\wiki\\Functional_programming.html\n",
      "1.074506\tfile:///D:\\Darbas\\projects\\text analysis\\wiki\\Programming_language.html\n",
      "0.517290\tfile:///D:\\Darbas\\projects\\text analysis\\wiki\\Categorical_list_of_programming_languages.html\n",
      "0.440255\tfile:///D:\\Darbas\\projects\\text analysis\\wiki\\Programming_paradigm.html\n",
      "0.426334\tfile:///D:\\Darbas\\projects\\text analysis\\wiki\\Lisp_programming_language.html\n",
      "0.401818\tfile:///D:\\Darbas\\projects\\text analysis\\wiki\\Object-oriented_programming.html\n",
      "0.399505\tfile:///D:\\Darbas\\projects\\text analysis\\wiki\\Haskell_programming_language.html\n",
      "0.368774\tfile:///D:\\Darbas\\projects\\text analysis\\wiki\\Multi-paradigm_programming_language.html\n",
      "0.360320\tfile:///D:\\Darbas\\projects\\text analysis\\wiki\\Scheme_programming_language.html\n",
      "0.336781\tfile:///D:\\Darbas\\projects\\text analysis\\wiki\\Procedural_programming.html\n"
     ]
    }
   ],
   "source": [
    "e.query(rows, wordids, [(1.0, e.locationscore(rows)), (1.0, e.frequencyscore(rows)), (1.0, e.pagerankscore(rows))])"
   ]
  },
  {
   "cell_type": "markdown",
   "metadata": {},
   "source": [
    "Pagerank results:"
   ]
  },
  {
   "cell_type": "code",
   "execution_count": 11,
   "metadata": {
    "collapsed": false
   },
   "outputs": [
    {
     "name": "stdout",
     "output_type": "stream",
     "text": [
      "2.540386\tfile:///D:\\Darbas\\projects\\text analysis\\wiki\\Main_Page.html\n",
      "1.164584\tfile:///D:\\Darbas\\projects\\text analysis\\wiki\\Programming_language.html\n",
      "1.064741\tfile:///D:\\Darbas\\projects\\text analysis\\wiki\\Computer_language.html\n"
     ]
    }
   ],
   "source": [
    "cur = crawlerObj.con.execute('select * from pagerank order by score desc')\n",
    "for i in range(3):\n",
    "    ind = cur.next()\n",
    "    print '%f\\t%s' % (ind[1], e.geturlname(ind[0]))"
   ]
  }
 ],
 "metadata": {
  "kernelspec": {
   "display_name": "Python 2",
   "language": "python",
   "name": "python2"
  },
  "language_info": {
   "codemirror_mode": {
    "name": "ipython",
    "version": 2
   },
   "file_extension": ".py",
   "mimetype": "text/x-python",
   "name": "python",
   "nbconvert_exporter": "python",
   "pygments_lexer": "ipython2",
   "version": "2.7.10"
  }
 },
 "nbformat": 4,
 "nbformat_minor": 0
}
