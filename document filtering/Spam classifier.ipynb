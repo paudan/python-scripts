{
 "cells": [
  {
   "cell_type": "code",
   "execution_count": 1,
   "metadata": {
    "collapsed": true
   },
   "outputs": [],
   "source": [
    "# Example from Programming Collective Intelligence, Chapter 6"
   ]
  },
  {
   "cell_type": "markdown",
   "metadata": {},
   "source": [
    "### Classify documents based on their contents ###"
   ]
  },
  {
   "cell_type": "code",
   "execution_count": 2,
   "metadata": {
    "collapsed": true
   },
   "outputs": [],
   "source": [
    "from docclass import *"
   ]
  },
  {
   "cell_type": "markdown",
   "metadata": {},
   "source": [
    "Build simple classifier:"
   ]
  },
  {
   "cell_type": "code",
   "execution_count": 3,
   "metadata": {
    "collapsed": false
   },
   "outputs": [
    {
     "name": "stdout",
     "output_type": "stream",
     "text": [
      "Nobody owns the water.\n",
      "the quick rabbit jumps fences\n",
      "buy pharmaceuticals now\n",
      "make quick money at the online casino\n",
      "the quick brown fox jumps\n"
     ]
    }
   ],
   "source": [
    "cl = classifier(getwords)\n",
    "sampletrain(cl)"
   ]
  },
  {
   "cell_type": "markdown",
   "metadata": {},
   "source": [
    " Calculate the number of times when instances containing the word 'quick' are labelled as 'good':"
   ]
  },
  {
   "cell_type": "code",
   "execution_count": 4,
   "metadata": {
    "collapsed": false
   },
   "outputs": [
    {
     "data": {
      "text/plain": [
       "2.0"
      ]
     },
     "execution_count": 4,
     "metadata": {},
     "output_type": "execute_result"
    }
   ],
   "source": [
    "cl.fcount('quick','good')"
   ]
  },
  {
   "cell_type": "markdown",
   "metadata": {},
   "source": [
    "Calculate the probability that document, containing the word 'quick', will be labeled as 'good':"
   ]
  },
  {
   "cell_type": "code",
   "execution_count": 5,
   "metadata": {
    "collapsed": false
   },
   "outputs": [
    {
     "data": {
      "text/plain": [
       "0.6666666666666666"
      ]
     },
     "execution_count": 5,
     "metadata": {},
     "output_type": "execute_result"
    }
   ],
   "source": [
    "cl.fprob('quick', 'good')"
   ]
  },
  {
   "cell_type": "markdown",
   "metadata": {},
   "source": [
    "Consider assumed probability, which will be used when you have very little information about the feature in question. A good number to start with is 0.5. You’ll also need to decide how much to weight the assumed probability—a weight of 1 means the assumed probability is weighted the same as one word. The weighted probability returns a weighted average of\n",
    "getprobability and the assumed probability.\n",
    "\n",
    "Calculate this probability that document, containing the word 'money', will be labeled as 'good':"
   ]
  },
  {
   "cell_type": "code",
   "execution_count": 6,
   "metadata": {
    "collapsed": false
   },
   "outputs": [
    {
     "name": "stdout",
     "output_type": "stream",
     "text": [
      "0.25\n",
      "0.5\n"
     ]
    }
   ],
   "source": [
    "print(cl.weightedprob('money','good',cl.fprob))\n",
    "print(cl.weightedprob('money','bad',cl.fprob))"
   ]
  },
  {
   "cell_type": "markdown",
   "metadata": {},
   "source": [
    "Train simple Naive Bayes classifier:"
   ]
  },
  {
   "cell_type": "code",
   "execution_count": 7,
   "metadata": {
    "collapsed": false
   },
   "outputs": [
    {
     "name": "stdout",
     "output_type": "stream",
     "text": [
      "Nobody owns the water.\n",
      "the quick rabbit jumps fences\n",
      "buy pharmaceuticals now\n",
      "make quick money at the online casino\n",
      "the quick brown fox jumps\n"
     ]
    }
   ],
   "source": [
    "cl=naivebayes(getwords)\n",
    "sampletrain(cl)"
   ]
  },
  {
   "cell_type": "markdown",
   "metadata": {},
   "source": [
    "Calculate the probabilities for the document, containing the words 'quick rabbit':"
   ]
  },
  {
   "cell_type": "code",
   "execution_count": 8,
   "metadata": {
    "collapsed": false
   },
   "outputs": [
    {
     "name": "stdout",
     "output_type": "stream",
     "text": [
      "quick rabbit\n",
      "0.15625\n",
      "quick rabbit\n",
      "0.05\n"
     ]
    }
   ],
   "source": [
    "print(cl.prob('quick rabbit','good'))\n",
    "print(cl.prob('quick rabbit','bad'))"
   ]
  },
  {
   "cell_type": "markdown",
   "metadata": {},
   "source": [
    "Classify new instances:"
   ]
  },
  {
   "cell_type": "code",
   "execution_count": 9,
   "metadata": {
    "collapsed": false
   },
   "outputs": [
    {
     "name": "stdout",
     "output_type": "stream",
     "text": [
      "quick rabbit\n",
      "quick rabbit\n",
      "good\n",
      "quick money\n",
      "quick money\n",
      "bad\n"
     ]
    }
   ],
   "source": [
    "print(cl.classify('quick rabbit',default='unknown'))\n",
    "print(cl.classify('quick money',default='unknown'))"
   ]
  },
  {
   "cell_type": "markdown",
   "metadata": {},
   "source": [
    "In the case of spam filtering, it’s much more important to avoid having good email messages classified as spam than it is to catch every single spam message. The occasional spam message in your inbox can be tolerated, but an important email that is\n",
    "automatically filtered to junk mail might get overlooked completely. If you have to search through your junk mail folder for important email messages, there’s really no point in having a spam filter.\n",
    "\n",
    "To deal with this problem, you can set up a minimum threshold for each category.For a new item to be classified into a particular category, its probability must be a specified amount larger than the probability for any other category. This specified amount is the threshold. For spam filtering, the threshold to be filtered to bad could be 3, so that the probability for bad would have to be 3 times higher than the probability for good. The threshold for good could be set to 1, so anything would be good if the probability were at all better than for the bad category. Any message where the probability for bad is higher, but not 3 times higher, would be classified as unknown.\n",
    "\n",
    "Set threshold equal to 3 and calculate probability:"
   ]
  },
  {
   "cell_type": "code",
   "execution_count": 10,
   "metadata": {
    "collapsed": false
   },
   "outputs": [
    {
     "name": "stdout",
     "output_type": "stream",
     "text": [
      "quick money\n",
      "quick money\n"
     ]
    },
    {
     "data": {
      "text/plain": [
       "'unknown'"
      ]
     },
     "execution_count": 10,
     "metadata": {},
     "output_type": "execute_result"
    }
   ],
   "source": [
    "cl.setthreshold('bad',3.0)\n",
    "cl.classify('quick money',default='unknown')"
   ]
  },
  {
   "cell_type": "markdown",
   "metadata": {},
   "source": [
    "Use simple oversampling:"
   ]
  },
  {
   "cell_type": "code",
   "execution_count": 13,
   "metadata": {
    "collapsed": false
   },
   "outputs": [
    {
     "name": "stdout",
     "output_type": "stream",
     "text": [
      "Nobody owns the water.\n",
      "the quick rabbit jumps fences\n",
      "buy pharmaceuticals now\n",
      "make quick money at the online casino\n",
      "the quick brown fox jumps\n",
      "Nobody owns the water.\n",
      "the quick rabbit jumps fences\n",
      "buy pharmaceuticals now\n",
      "make quick money at the online casino\n",
      "the quick brown fox jumps\n",
      "Nobody owns the water.\n",
      "the quick rabbit jumps fences\n",
      "buy pharmaceuticals now\n",
      "make quick money at the online casino\n",
      "the quick brown fox jumps\n",
      "Nobody owns the water.\n",
      "the quick rabbit jumps fences\n",
      "buy pharmaceuticals now\n",
      "make quick money at the online casino\n",
      "the quick brown fox jumps\n",
      "Nobody owns the water.\n",
      "the quick rabbit jumps fences\n",
      "buy pharmaceuticals now\n",
      "make quick money at the online casino\n",
      "the quick brown fox jumps\n",
      "Nobody owns the water.\n",
      "the quick rabbit jumps fences\n",
      "buy pharmaceuticals now\n",
      "make quick money at the online casino\n",
      "the quick brown fox jumps\n",
      "Nobody owns the water.\n",
      "the quick rabbit jumps fences\n",
      "buy pharmaceuticals now\n",
      "make quick money at the online casino\n",
      "the quick brown fox jumps\n",
      "Nobody owns the water.\n",
      "the quick rabbit jumps fences\n",
      "buy pharmaceuticals now\n",
      "make quick money at the online casino\n",
      "the quick brown fox jumps\n",
      "Nobody owns the water.\n",
      "the quick rabbit jumps fences\n",
      "buy pharmaceuticals now\n",
      "make quick money at the online casino\n",
      "the quick brown fox jumps\n",
      "Nobody owns the water.\n",
      "the quick rabbit jumps fences\n",
      "buy pharmaceuticals now\n",
      "make quick money at the online casino\n",
      "the quick brown fox jumps\n"
     ]
    }
   ],
   "source": [
    "for i in range(10): \n",
    "    sampletrain(cl)"
   ]
  },
  {
   "cell_type": "code",
   "execution_count": 14,
   "metadata": {
    "collapsed": false
   },
   "outputs": [
    {
     "name": "stdout",
     "output_type": "stream",
     "text": [
      "quick money\n",
      "quick money\n",
      "bad\n"
     ]
    }
   ],
   "source": [
    "print(cl.classify('quick money',default='unknown'))"
   ]
  },
  {
   "cell_type": "markdown",
   "metadata": {},
   "source": [
    "Train Fisher discriminant classifier:"
   ]
  },
  {
   "cell_type": "code",
   "execution_count": 15,
   "metadata": {
    "collapsed": false
   },
   "outputs": [
    {
     "name": "stdout",
     "output_type": "stream",
     "text": [
      "Nobody owns the water.\n",
      "the quick rabbit jumps fences\n",
      "buy pharmaceuticals now\n",
      "make quick money at the online casino\n",
      "the quick brown fox jumps\n"
     ]
    }
   ],
   "source": [
    "cl=fisherclassifier(getwords)\n",
    "sampletrain(cl)"
   ]
  },
  {
   "cell_type": "markdown",
   "metadata": {},
   "source": [
    "Calculate probabilities:"
   ]
  },
  {
   "cell_type": "code",
   "execution_count": 16,
   "metadata": {
    "collapsed": false
   },
   "outputs": [
    {
     "name": "stdout",
     "output_type": "stream",
     "text": [
      "0.571428571429\n",
      "1.0\n",
      "0.75\n"
     ]
    }
   ],
   "source": [
    "print(cl.cprob('quick','good'))\n",
    "print(cl.cprob('money','bad'))\n",
    "print(cl.weightedprob('money','bad',cl.cprob))"
   ]
  },
  {
   "cell_type": "markdown",
   "metadata": {},
   "source": [
    "Fisher probabilities:"
   ]
  },
  {
   "cell_type": "code",
   "execution_count": 17,
   "metadata": {
    "collapsed": false
   },
   "outputs": [
    {
     "name": "stdout",
     "output_type": "stream",
     "text": [
      "quick rabbit\n",
      "0.78013986589\n",
      "quick rabbit\n",
      "0.356335962833\n"
     ]
    }
   ],
   "source": [
    "print(cl.fisherprob('quick rabbit','good'))\n",
    "print(cl.fisherprob('quick rabbit','bad'))"
   ]
  },
  {
   "cell_type": "markdown",
   "metadata": {},
   "source": [
    "Perform classification with Fisher discriminant classifier:"
   ]
  },
  {
   "cell_type": "code",
   "execution_count": 18,
   "metadata": {
    "collapsed": false
   },
   "outputs": [
    {
     "name": "stdout",
     "output_type": "stream",
     "text": [
      "quick rabbit\n",
      "quick rabbit\n",
      "good\n",
      "quick money\n",
      "quick money\n",
      "bad\n",
      "quick money\n",
      "quick money\n",
      "good\n",
      "quick money\n",
      "quick money\n",
      "good\n"
     ]
    }
   ],
   "source": [
    "print(cl.classify('quick rabbit'))\n",
    "print(cl.classify('quick money'))\n",
    "cl.setminimum('bad',0.8)\n",
    "print(cl.classify('quick money'))\n",
    "cl.setminimum('good',0.4)\n",
    "print(cl.classify('quick money'))"
   ]
  }
 ],
 "metadata": {
  "kernelspec": {
   "display_name": "Python 2",
   "language": "python",
   "name": "python2"
  },
  "language_info": {
   "codemirror_mode": {
    "name": "ipython",
    "version": 2
   },
   "file_extension": ".py",
   "mimetype": "text/x-python",
   "name": "python",
   "nbconvert_exporter": "python",
   "pygments_lexer": "ipython2",
   "version": "2.7.10"
  }
 },
 "nbformat": 4,
 "nbformat_minor": 0
}
