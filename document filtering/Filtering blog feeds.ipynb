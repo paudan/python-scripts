{
 "cells": [
  {
   "cell_type": "code",
   "execution_count": 2,
   "metadata": {
    "collapsed": true
   },
   "outputs": [],
   "source": [
    "# Example from Programming Collective Intelligence, Chapter 6"
   ]
  },
  {
   "cell_type": "markdown",
   "metadata": {},
   "source": [
    "### Filtering blog feeds ###"
   ]
  },
  {
   "cell_type": "code",
   "execution_count": 4,
   "metadata": {
    "collapsed": false
   },
   "outputs": [],
   "source": [
    "from docclass import *\n",
    "import re\n",
    "import feedparser   # pip install feedparser\n",
    "\n",
    "# Takes a filename of URL of a blog feed and classifies the entries\n",
    "def read(feed, classifier):\n",
    "    # Get feed entries and loop over them\n",
    "    f = feedparser.parse(feed)\n",
    "    for entry in f['entries']:\n",
    "        print\n",
    "        print '-----'\n",
    "        # Print the contents of the entry\n",
    "        print 'Title:     ' + entry['title'].encode('utf-8')\n",
    "        print 'Publisher: ' + entry['publisher'].encode('utf-8')\n",
    "        print\n",
    "        print entry['summary'].encode('utf-8')\n",
    "        # Combine all the text to create one item for the classifier\n",
    "        fulltext = '%s\\n%s\\n%s' % (entry['title'], entry['publisher'], entry['summary'])\n",
    "        # Print the best guess at the current category\n",
    "        print 'Guess: ' + str(classifier.classify(fulltext))\n",
    "        # Ask the user to specify the correct category and train on that\n",
    "        cl = raw_input('Enter category: ')\n",
    "        classifier.train(fulltext, cl.strip())\n",
    "\n",
    "\n",
    "def entryfeatures(entry):\n",
    "    splitter = re.compile('\\\\W*')\n",
    "    f = {}\n",
    "    titlewords = [s.lower() for s in splitter.split(entry['title']) if len(s) > 2 and len(s) < 20]\n",
    "    for w in titlewords: f['Title:' + w] = 1\n",
    "    summarywords = [s.lower() for s in splitter.split(entry['summary']) if len(s) > 2 and len(s) < 20]\n",
    "    # Count uppercase words\n",
    "    uc = 0\n",
    "    for i in range(len(summarywords)):\n",
    "        w = summarywords[i]\n",
    "        f[w] = 1\n",
    "        if w.isupper(): uc += 1\n",
    "        # Get word pairs in summary as features\n",
    "        if i < len(summarywords) - 1:\n",
    "            twowords = ' '.join(summarywords[i:i + 1])\n",
    "            f[twowords] = 1\n",
    "\n",
    "    # Keep creator and publisher whole\n",
    "    f['Publisher:' + entry['publisher']] = 1\n",
    "    # UPPERCASE is a virtual word flagging too much shouting\n",
    "    if float(uc) / len(summarywords) > 0.3: f['UPPERCASE'] = 1\n",
    "    return f"
   ]
  },
  {
   "cell_type": "markdown",
   "metadata": {},
   "source": [
    "Train discriminant Fisher classifier:"
   ]
  },
  {
   "cell_type": "code",
   "execution_count": null,
   "metadata": {
    "collapsed": false
   },
   "outputs": [
    {
     "name": "stdout",
     "output_type": "stream",
     "text": [
      "\n",
      "-----\n",
      "Title:     My new baby boy!\n",
      "Publisher: Shetan Noir, the zombie belly dancer! - MySpace Blog\n",
      "\n",
      "THis is my new baby, Anthem. He is a 3 and half month old ball <b>python</b>, orange shaded normal pattern. I have held him about 5 time since I brought him home tonight at 8:00pm...\n",
      "Guess: None\n",
      "Enter category: test\n",
      "My new baby boy!\n",
      "Shetan Noir, the zombie belly dancer! - MySpace Blog\n",
      "THis is my new baby, Anthem. He is a 3 and half month old ball <b>python</b>, orange shaded normal pattern. I have held him about 5 time since I brought him home tonight at 8:00pm...\n",
      "\n",
      "-----\n",
      "Title:     If you need a laugh...\n",
      "Publisher: Kate&#39;s space\n",
      "\n",
      "Even does 'funny walks' from Monty <b>Python</b>. He talks about all the ol' ladies that are after him. He teases me about my horror obsession. He attempts suicide. And best of all, he talks about poo. Who doesn't think poo is funny???!\n",
      "If you need a laugh...\n",
      "Kate&#39;s space\n",
      "Even does 'funny walks' from Monty <b>Python</b>. He talks about all the ol' ladies that are after him. He teases me about my horror obsession. He attempts suicide. And best of all, he talks about poo. Who doesn't think poo is funny???!\n",
      "Guess: test\n",
      "Enter category: test\n",
      "If you need a laugh...\n",
      "Kate&#39;s space\n",
      "Even does 'funny walks' from Monty <b>Python</b>. He talks about all the ol' ladies that are after him. He teases me about my horror obsession. He attempts suicide. And best of all, he talks about poo. Who doesn't think poo is funny???!\n",
      "\n",
      "-----\n",
      "Title:     And another one checked off the list..New pix comment ppl\n",
      "Publisher: Python Guru - MySpace Blog\n",
      "\n",
      "Now the one of a kind NERD bred Carplot male is in our possesion. His name is Broken (not because he is sterile) lol But check out the pic and leave one bitches..............\n",
      "And another one checked off the list..New pix comment ppl\n",
      "Python Guru - MySpace Blog\n",
      "Now the one of a kind NERD bred Carplot male is in our possesion. His name is Broken (not because he is sterile) lol But check out the pic and leave one bitches..............\n",
      "Guess: test\n"
     ]
    }
   ],
   "source": [
    "cl = fisherclassifier(getwords)\n",
    "read('python_search.xml',cl)"
   ]
  },
  {
   "cell_type": "markdown",
   "metadata": {},
   "source": [
    "Calculate probabilities:"
   ]
  },
  {
   "cell_type": "code",
   "execution_count": null,
   "metadata": {
    "collapsed": true
   },
   "outputs": [],
   "source": [
    "print(cl.cprob('python','prog'))\n",
    "print(cl.cprob('python','snake'))\n",
    "print(cl.cprob('python','monty'))\n",
    "print(cl.cprob('eric','monty'))\n",
    "print(cl.fprob('eric','monty'))"
   ]
  }
 ],
 "metadata": {
  "kernelspec": {
   "display_name": "Python 2",
   "language": "python",
   "name": "python2"
  },
  "language_info": {
   "codemirror_mode": {
    "name": "ipython",
    "version": 2
   },
   "file_extension": ".py",
   "mimetype": "text/x-python",
   "name": "python",
   "nbconvert_exporter": "python",
   "pygments_lexer": "ipython2",
   "version": "2.7.10"
  }
 },
 "nbformat": 4,
 "nbformat_minor": 0
}
