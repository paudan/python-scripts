{
 "cells": [
  {
   "cell_type": "code",
   "execution_count": 1,
   "metadata": {
    "collapsed": true
   },
   "outputs": [],
   "source": [
    "# Example from Programming Collective Intelligence, Chapter 7"
   ]
  },
  {
   "cell_type": "markdown",
   "metadata": {},
   "source": [
    "### Decision tree modelling ###\n",
    "The main goal is to predict if a user will become a paying customer"
   ]
  },
  {
   "cell_type": "code",
   "execution_count": 2,
   "metadata": {
    "collapsed": true
   },
   "outputs": [],
   "source": [
    "from treepredict import *\n",
    "\n",
    "my_data = [['slashdot', 'USA', 'yes', 18, 'None'],\n",
    "           ['google', 'France', 'yes', 23, 'Premium'],\n",
    "           ['digg', 'USA', 'yes', 24, 'Basic'],\n",
    "           ['kiwitobes', 'France', 'yes', 23, 'Basic'],\n",
    "           ['google', 'UK', 'no', 21, 'Premium'],\n",
    "           ['(direct)', 'New Zealand', 'no', 12, 'None'],\n",
    "           ['(direct)', 'UK', 'no', 21, 'Basic'],\n",
    "           ['google', 'USA', 'no', 24, 'Premium'],\n",
    "           ['slashdot', 'France', 'yes', 19, 'None'],\n",
    "           ['digg', 'USA', 'no', 18, 'None'],\n",
    "           ['google', 'UK', 'no', 18, 'None'],\n",
    "           ['kiwitobes', 'UK', 'no', 19, 'None'],\n",
    "           ['digg', 'New Zealand', 'yes', 12, 'Basic'],\n",
    "           ['slashdot', 'UK', 'no', 21, 'None'],\n",
    "           ['google', 'UK', 'yes', 18, 'Basic'],\n",
    "           ['kiwitobes', 'France', 'yes', 19, 'Basic']]"
   ]
  },
  {
   "cell_type": "markdown",
   "metadata": {},
   "source": [
    "Divides the rows into two sets based by the Read FAQ column:"
   ]
  },
  {
   "cell_type": "code",
   "execution_count": 3,
   "metadata": {
    "collapsed": false
   },
   "outputs": [
    {
     "data": {
      "text/plain": [
       "([['slashdot', 'USA', 'yes', 18, 'None'],\n",
       "  ['google', 'France', 'yes', 23, 'Premium'],\n",
       "  ['digg', 'USA', 'yes', 24, 'Basic'],\n",
       "  ['kiwitobes', 'France', 'yes', 23, 'Basic'],\n",
       "  ['slashdot', 'France', 'yes', 19, 'None'],\n",
       "  ['digg', 'New Zealand', 'yes', 12, 'Basic'],\n",
       "  ['google', 'UK', 'yes', 18, 'Basic'],\n",
       "  ['kiwitobes', 'France', 'yes', 19, 'Basic']],\n",
       " [['google', 'UK', 'no', 21, 'Premium'],\n",
       "  ['(direct)', 'New Zealand', 'no', 12, 'None'],\n",
       "  ['(direct)', 'UK', 'no', 21, 'Basic'],\n",
       "  ['google', 'USA', 'no', 24, 'Premium'],\n",
       "  ['digg', 'USA', 'no', 18, 'None'],\n",
       "  ['google', 'UK', 'no', 18, 'None'],\n",
       "  ['kiwitobes', 'UK', 'no', 19, 'None'],\n",
       "  ['slashdot', 'UK', 'no', 21, 'None']])"
      ]
     },
     "execution_count": 3,
     "metadata": {},
     "output_type": "execute_result"
    }
   ],
   "source": [
    "divideset(my_data, 2, 'yes')"
   ]
  },
  {
   "cell_type": "markdown",
   "metadata": {},
   "source": [
    "Calculate Gini impurity and entropy:"
   ]
  },
  {
   "cell_type": "code",
   "execution_count": 4,
   "metadata": {
    "collapsed": false
   },
   "outputs": [
    {
     "name": "stdout",
     "output_type": "stream",
     "text": [
      "Gini impurity of the whole dataset: 0.632812\n",
      "Entropy of the whole dataset: 1.505241\n",
      "Gini impurity of partial dataset (Read FAQ = yes): 0.531250\n",
      "Entropy of partial dataset (Read FAQ = yes): 1.298795\n",
      "Gini impurity of partial dataset (Read FAQ = no): 0.531250\n",
      "Entropy of partial dataset (Read FAQ = no): 1.298795\n"
     ]
    }
   ],
   "source": [
    "print \"Gini impurity of the whole dataset: %f\" % giniimpurity(my_data)\n",
    "print \"Entropy of the whole dataset: %f\" % entropy(my_data)\n",
    "set1, set2 = divideset(my_data, 2, 'yes')\n",
    "print \"Gini impurity of partial dataset (Read FAQ = yes): %f\" % giniimpurity(set1)\n",
    "print \"Entropy of partial dataset (Read FAQ = yes): %f\" % entropy(set1)\n",
    "print \"Gini impurity of partial dataset (Read FAQ = no): %f\" % giniimpurity(set2)\n",
    "print \"Entropy of partial dataset (Read FAQ = no): %f\" % entropy(set2)"
   ]
  },
  {
   "cell_type": "markdown",
   "metadata": {},
   "source": [
    "Build decision tree and print it:"
   ]
  },
  {
   "cell_type": "code",
   "execution_count": 5,
   "metadata": {
    "collapsed": false
   },
   "outputs": [
    {
     "name": "stdout",
     "output_type": "stream",
     "text": [
      "0:google? \n",
      "T-> 3:21? \n",
      "  T-> {'Premium': 3}\n",
      "  F-> 2:yes? \n",
      "    T-> {'Basic': 1}\n",
      "    F-> {'None': 1}\n",
      "F-> 0:slashdot? \n",
      "  T-> {'None': 3}\n",
      "  F-> 2:yes? \n",
      "    T-> {'Basic': 4}\n",
      "    F-> 3:21? \n",
      "      T-> {'Basic': 1}\n",
      "      F-> {'None': 3}\n"
     ]
    }
   ],
   "source": [
    "tree = buildtree(my_data)\n",
    "printtree(tree)"
   ]
  },
  {
   "cell_type": "markdown",
   "metadata": {},
   "source": [
    "Represent this decision tree visually:"
   ]
  },
  {
   "cell_type": "code",
   "execution_count": 10,
   "metadata": {
    "collapsed": false
   },
   "outputs": [
    {
     "data": {
      "image/png": "[encoded data removed]",
      "text/plain": [
       "<matplotlib.figure.Figure at 0x7242870>"
      ]
     },
     "metadata": {},
     "output_type": "display_data"
    }
   ],
   "source": [
    "%matplotlib inline\n",
    "import matplotlib.pyplot as plt\n",
    "from matplotlib.pyplot import imshow\n",
    "\n",
    "img = drawtree(tree)\n",
    "fig2 = plt.figure(figsize = (15,45))\n",
    "ax3 = fig2.add_subplot(111)\n",
    "ax3.imshow(img)\n",
    "plt.show()\n",
    "img.save('treeview.jpg', 'JPEG')"
   ]
  },
  {
   "cell_type": "markdown",
   "metadata": {},
   "source": [
    "Classify new instance:"
   ]
  },
  {
   "cell_type": "code",
   "execution_count": 11,
   "metadata": {
    "collapsed": false
   },
   "outputs": [
    {
     "data": {
      "text/plain": [
       "{'Basic': 4}"
      ]
     },
     "execution_count": 11,
     "metadata": {},
     "output_type": "execute_result"
    }
   ],
   "source": [
    "classify(['(direct)', 'USA', 'yes', 5], tree)"
   ]
  },
  {
   "cell_type": "markdown",
   "metadata": {},
   "source": [
    "Prune tree (minimum gain 0.1):"
   ]
  },
  {
   "cell_type": "code",
   "execution_count": 12,
   "metadata": {
    "collapsed": false
   },
   "outputs": [
    {
     "name": "stdout",
     "output_type": "stream",
     "text": [
      "0:google? \n",
      "T-> 3:21? \n",
      "  T-> {'Premium': 3}\n",
      "  F-> 2:yes? \n",
      "    T-> {'Basic': 1}\n",
      "    F-> {'None': 1}\n",
      "F-> 0:slashdot? \n",
      "  T-> {'None': 3}\n",
      "  F-> 2:yes? \n",
      "    T-> {'Basic': 4}\n",
      "    F-> 3:21? \n",
      "      T-> {'Basic': 1}\n",
      "      F-> {'None': 3}\n"
     ]
    }
   ],
   "source": [
    "prune(tree, 0.1)\n",
    "printtree(tree)"
   ]
  },
  {
   "cell_type": "markdown",
   "metadata": {},
   "source": [
    "Prune tree (minimum gain 1.0):"
   ]
  },
  {
   "cell_type": "code",
   "execution_count": 13,
   "metadata": {
    "collapsed": false
   },
   "outputs": [
    {
     "name": "stdout",
     "output_type": "stream",
     "text": [
      "0:google? \n",
      "T-> 3:21? \n",
      "  T-> {'Premium': 3}\n",
      "  F-> 2:yes? \n",
      "    T-> {'Basic': 1}\n",
      "    F-> {'None': 1}\n",
      "F-> {'None': 6, 'Basic': 5}\n"
     ]
    }
   ],
   "source": [
    "prune(tree, 1.0)\n",
    "printtree(tree)"
   ]
  },
  {
   "cell_type": "markdown",
   "metadata": {},
   "source": [
    "Classify new instances:"
   ]
  },
  {
   "cell_type": "code",
   "execution_count": 14,
   "metadata": {
    "collapsed": false
   },
   "outputs": [
    {
     "name": "stdout",
     "output_type": "stream",
     "text": [
      "{'Premium': 2.25, 'Basic': 0.25}\n",
      "{'None': 0.125, 'Premium': 2.25, 'Basic': 0.125}\n"
     ]
    }
   ],
   "source": [
    "print mdclassify(['google', None, 'yes', None], tree)\n",
    "print mdclassify(['google', 'France', None, None], tree)"
   ]
  }
 ],
 "metadata": {
  "kernelspec": {
   "display_name": "Python 2",
   "language": "python",
   "name": "python2"
  },
  "language_info": {
   "codemirror_mode": {
    "name": "ipython",
    "version": 2
   },
   "file_extension": ".py",
   "mimetype": "text/x-python",
   "name": "python",
   "nbconvert_exporter": "python",
   "pygments_lexer": "ipython2",
   "version": "2.7.10"
  }
 },
 "nbformat": 4,
 "nbformat_minor": 0
}
